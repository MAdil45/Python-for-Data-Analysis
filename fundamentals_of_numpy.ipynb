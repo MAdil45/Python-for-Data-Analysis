{
 "cells": [
  {
   "cell_type": "code",
   "execution_count": 1,
   "id": "ca7e0df4",
   "metadata": {},
   "outputs": [],
   "source": [
    "import numpy as np"
   ]
  },
  {
   "cell_type": "code",
   "execution_count": 2,
   "id": "f2b2e210",
   "metadata": {},
   "outputs": [],
   "source": [
    "## generate some random data\n",
    "data = np.random.rand(6,3)"
   ]
  },
  {
   "cell_type": "code",
   "execution_count": 5,
   "id": "4e1cea95",
   "metadata": {},
   "outputs": [
    {
     "data": {
      "text/plain": [
       "array([[0.97983924, 0.82877308, 0.36923233],\n",
       "       [0.48091804, 0.00657407, 0.33832542],\n",
       "       [0.39998081, 0.38672555, 0.68945918],\n",
       "       [0.4214709 , 0.96819251, 0.90892358],\n",
       "       [0.45623431, 0.98533217, 0.84359261],\n",
       "       [0.92118859, 0.12242153, 0.66764124]])"
      ]
     },
     "execution_count": 5,
     "metadata": {},
     "output_type": "execute_result"
    }
   ],
   "source": [
    "data"
   ]
  },
  {
   "cell_type": "code",
   "execution_count": 6,
   "id": "31b11226",
   "metadata": {},
   "outputs": [
    {
     "data": {
      "text/plain": [
       "array([[9.79839243, 8.28773082, 3.6923233 ],\n",
       "       [4.8091804 , 0.06574072, 3.38325417],\n",
       "       [3.9998081 , 3.86725549, 6.89459179],\n",
       "       [4.21470896, 9.68192505, 9.0892358 ],\n",
       "       [4.56234309, 9.85332171, 8.43592613],\n",
       "       [9.2118859 , 1.22421527, 6.67641242]])"
      ]
     },
     "execution_count": 6,
     "metadata": {},
     "output_type": "execute_result"
    }
   ],
   "source": [
    "# We can then perform mathematical operations on data\n",
    "data = data * 10\n",
    "data"
   ]
  },
  {
   "cell_type": "code",
   "execution_count": 7,
   "id": "d0a26076",
   "metadata": {},
   "outputs": [],
   "source": [
    "data = data  + data"
   ]
  },
  {
   "cell_type": "code",
   "execution_count": 8,
   "id": "49dc28e5",
   "metadata": {},
   "outputs": [
    {
     "data": {
      "text/plain": [
       "array([[19.59678486, 16.57546164,  7.38464661],\n",
       "       [ 9.61836079,  0.13148144,  6.76650833],\n",
       "       [ 7.99961619,  7.73451098, 13.78918358],\n",
       "       [ 8.42941792, 19.36385011, 18.1784716 ],\n",
       "       [ 9.12468617, 19.70664342, 16.87185225],\n",
       "       [18.42377179,  2.44843054, 13.35282484]])"
      ]
     },
     "execution_count": 8,
     "metadata": {},
     "output_type": "execute_result"
    }
   ],
   "source": [
    "data"
   ]
  },
  {
   "cell_type": "code",
   "execution_count": 9,
   "id": "8388bf0e",
   "metadata": {},
   "outputs": [
    {
     "name": "stdout",
     "output_type": "stream",
     "text": [
      "<class 'numpy.ndarray'>\n"
     ]
    }
   ],
   "source": [
    "print(type(data))"
   ]
  },
  {
   "cell_type": "code",
   "execution_count": 10,
   "id": "0ffeb1aa",
   "metadata": {},
   "outputs": [
    {
     "data": {
      "text/plain": [
       "(6, 3)"
      ]
     },
     "execution_count": 10,
     "metadata": {},
     "output_type": "execute_result"
    }
   ],
   "source": [
    "data.shape"
   ]
  },
  {
   "cell_type": "code",
   "execution_count": 13,
   "id": "7a597474",
   "metadata": {},
   "outputs": [
    {
     "data": {
      "text/plain": [
       "dtype('float64')"
      ]
     },
     "execution_count": 13,
     "metadata": {},
     "output_type": "execute_result"
    }
   ],
   "source": [
    "data.dtype"
   ]
  },
  {
   "cell_type": "code",
   "execution_count": 14,
   "id": "6861121a",
   "metadata": {},
   "outputs": [
    {
     "data": {
      "text/plain": [
       "array([6. , 7.5, 8. , 0. , 1. ])"
      ]
     },
     "execution_count": 14,
     "metadata": {},
     "output_type": "execute_result"
    }
   ],
   "source": [
    "data = [6, 7.5, 8, 0, 1]\n",
    "arr1 = np.array(data)\n",
    "arr1"
   ]
  },
  {
   "cell_type": "code",
   "execution_count": 15,
   "id": "5a4d81e8",
   "metadata": {},
   "outputs": [
    {
     "data": {
      "text/plain": [
       "array([[1, 2, 3, 4],\n",
       "       [5, 6, 7, 8]])"
      ]
     },
     "execution_count": 15,
     "metadata": {},
     "output_type": "execute_result"
    }
   ],
   "source": [
    "# nested sequences\n",
    "data2 = [[1, 2, 3, 4], [5, 6, 7, 8]]\n",
    "arr2 = np.array(data2)\n",
    "arr2"
   ]
  },
  {
   "cell_type": "code",
   "execution_count": 17,
   "id": "3e42305b",
   "metadata": {},
   "outputs": [
    {
     "name": "stdout",
     "output_type": "stream",
     "text": [
      "(2, 4)\n"
     ]
    },
    {
     "data": {
      "text/plain": [
       "dtype('int32')"
      ]
     },
     "execution_count": 17,
     "metadata": {},
     "output_type": "execute_result"
    }
   ],
   "source": [
    "print(arr2.shape)\n",
    "\n",
    "arr2.dtype"
   ]
  },
  {
   "cell_type": "code",
   "execution_count": 18,
   "id": "0c210721",
   "metadata": {},
   "outputs": [
    {
     "data": {
      "text/plain": [
       "2"
      ]
     },
     "execution_count": 18,
     "metadata": {},
     "output_type": "execute_result"
    }
   ],
   "source": [
    "arr2.ndim"
   ]
  },
  {
   "cell_type": "code",
   "execution_count": 19,
   "id": "ba01066d",
   "metadata": {},
   "outputs": [
    {
     "data": {
      "text/plain": [
       "dtype('int32')"
      ]
     },
     "execution_count": 19,
     "metadata": {},
     "output_type": "execute_result"
    }
   ],
   "source": [
    "arr2.dtype"
   ]
  },
  {
   "cell_type": "code",
   "execution_count": 26,
   "id": "0df76699",
   "metadata": {},
   "outputs": [],
   "source": [
    "# Creating other arrays, zeros, ones, etc\n",
    "zero = np.zeros(10, order=\"C\")"
   ]
  },
  {
   "cell_type": "code",
   "execution_count": 27,
   "id": "b872042a",
   "metadata": {},
   "outputs": [
    {
     "data": {
      "text/plain": [
       "array([0., 0., 0., 0., 0., 0., 0., 0., 0., 0.])"
      ]
     },
     "execution_count": 27,
     "metadata": {},
     "output_type": "execute_result"
    }
   ],
   "source": [
    "zero"
   ]
  },
  {
   "cell_type": "code",
   "execution_count": 30,
   "id": "12d95ad4",
   "metadata": {},
   "outputs": [],
   "source": [
    "zeroes = np.zeros((10,4), order=\"C\")"
   ]
  },
  {
   "cell_type": "code",
   "execution_count": 31,
   "id": "39760e38",
   "metadata": {},
   "outputs": [
    {
     "data": {
      "text/plain": [
       "array([[0., 0., 0., 0.],\n",
       "       [0., 0., 0., 0.],\n",
       "       [0., 0., 0., 0.],\n",
       "       [0., 0., 0., 0.],\n",
       "       [0., 0., 0., 0.],\n",
       "       [0., 0., 0., 0.],\n",
       "       [0., 0., 0., 0.],\n",
       "       [0., 0., 0., 0.],\n",
       "       [0., 0., 0., 0.],\n",
       "       [0., 0., 0., 0.]])"
      ]
     },
     "execution_count": 31,
     "metadata": {},
     "output_type": "execute_result"
    }
   ],
   "source": [
    "zeroes"
   ]
  },
  {
   "cell_type": "code",
   "execution_count": 37,
   "id": "1f55296d",
   "metadata": {},
   "outputs": [
    {
     "data": {
      "text/plain": [
       "array([[[1.11851651e-311, 3.16202013e-322],\n",
       "        [0.00000000e+000, 0.00000000e+000],\n",
       "        [1.89146896e-307, 6.12974960e-062]],\n",
       "\n",
       "       [[2.00702529e-052, 2.52585711e-052],\n",
       "        [2.14325579e+160, 9.83658048e-072],\n",
       "        [4.81813675e-038, 3.53802820e-057]]])"
      ]
     },
     "execution_count": 37,
     "metadata": {},
     "output_type": "execute_result"
    }
   ],
   "source": [
    "np.empty((2,3,2))"
   ]
  },
  {
   "cell_type": "code",
   "execution_count": 38,
   "id": "b63b866b",
   "metadata": {},
   "outputs": [
    {
     "data": {
      "text/plain": [
       "array([0, 1, 2, 3, 4, 5, 6, 7, 8, 9])"
      ]
     },
     "execution_count": 38,
     "metadata": {},
     "output_type": "execute_result"
    }
   ],
   "source": [
    "np.arange(10)"
   ]
  },
  {
   "cell_type": "code",
   "execution_count": 41,
   "id": "4134f678",
   "metadata": {},
   "outputs": [
    {
     "data": {
      "text/plain": [
       "array([1., 2., 3., 4.])"
      ]
     },
     "execution_count": 41,
     "metadata": {},
     "output_type": "execute_result"
    }
   ],
   "source": [
    "#data types\n",
    "arr3 = np.array([1,2,3,4], dtype=np.float64)\n",
    "arr3"
   ]
  },
  {
   "cell_type": "code",
   "execution_count": 43,
   "id": "266a1d93",
   "metadata": {},
   "outputs": [
    {
     "data": {
      "text/plain": [
       "dtype('int32')"
      ]
     },
     "execution_count": 43,
     "metadata": {},
     "output_type": "execute_result"
    }
   ],
   "source": [
    "arr4 = np.array([4,5,6,7], dtype=np.int32)\n",
    "\n",
    "arr4.dtype\n"
   ]
  },
  {
   "cell_type": "code",
   "execution_count": 44,
   "id": "008b9c15",
   "metadata": {},
   "outputs": [
    {
     "data": {
      "text/plain": [
       "array([1., 2., 3., 4., 5., 6.])"
      ]
     },
     "execution_count": 44,
     "metadata": {},
     "output_type": "execute_result"
    }
   ],
   "source": [
    "arr5 = np.array([1,2,3,4,5,6,], dtype=np.float64)\n",
    "arr5"
   ]
  },
  {
   "cell_type": "code",
   "execution_count": 46,
   "id": "ef16f6b3",
   "metadata": {},
   "outputs": [],
   "source": [
    "arr6 = arr5.astype(np.int32)"
   ]
  },
  {
   "cell_type": "raw",
   "id": "d3a9420e",
   "metadata": {},
   "source": []
  },
  {
   "cell_type": "code",
   "execution_count": 48,
   "id": "5342ac68",
   "metadata": {},
   "outputs": [
    {
     "data": {
      "text/plain": [
       "dtype('int32')"
      ]
     },
     "execution_count": 48,
     "metadata": {},
     "output_type": "execute_result"
    }
   ],
   "source": [
    "arr6.dtype"
   ]
  },
  {
   "cell_type": "code",
   "execution_count": 49,
   "id": "f90814f2",
   "metadata": {},
   "outputs": [
    {
     "data": {
      "text/plain": [
       "array([b'2', b'4.5', b'7.8'], dtype='|S3')"
      ]
     },
     "execution_count": 49,
     "metadata": {},
     "output_type": "execute_result"
    }
   ],
   "source": [
    "# converting strings into float or int\n",
    "numeric_str = np.array(['2', '4.5', '7.8'], dtype = np.string_)\n",
    "numeric_str"
   ]
  },
  {
   "cell_type": "code",
   "execution_count": 55,
   "id": "bc582f9c",
   "metadata": {},
   "outputs": [],
   "source": [
    "num = numeric_str.astype(np.float64)"
   ]
  },
  {
   "cell_type": "markdown",
   "id": "7d437699",
   "metadata": {},
   "source": []
  },
  {
   "cell_type": "code",
   "execution_count": 56,
   "id": "f29c81af",
   "metadata": {},
   "outputs": [
    {
     "data": {
      "text/plain": [
       "dtype('float64')"
      ]
     },
     "execution_count": 56,
     "metadata": {},
     "output_type": "execute_result"
    }
   ],
   "source": [
    "num.dtype"
   ]
  },
  {
   "cell_type": "code",
   "execution_count": 60,
   "id": "b2dd19e5",
   "metadata": {},
   "outputs": [
    {
     "data": {
      "text/plain": [
       "array([0, 1, 2, 3, 4, 5, 6, 7, 8, 9])"
      ]
     },
     "execution_count": 60,
     "metadata": {},
     "output_type": "execute_result"
    }
   ],
   "source": [
    "int_array = np.arange(10)\n",
    "calibers = np.array([.22, .270, .357, .380, .44, .50], dtype=np.float64)\n",
    "int_array"
   ]
  },
  {
   "cell_type": "code",
   "execution_count": 61,
   "id": "1341dbed",
   "metadata": {},
   "outputs": [
    {
     "data": {
      "text/plain": [
       "array([0., 1., 2., 3., 4., 5., 6., 7., 8., 9.])"
      ]
     },
     "execution_count": 61,
     "metadata": {},
     "output_type": "execute_result"
    }
   ],
   "source": [
    "int_array.astype(calibers.dtype)"
   ]
  },
  {
   "cell_type": "code",
   "execution_count": 62,
   "id": "b1f0c75d",
   "metadata": {},
   "outputs": [
    {
     "data": {
      "text/plain": [
       "array([[1, 2, 3, 4, 8],\n",
       "       [1, 2, 5, 6, 9]])"
      ]
     },
     "execution_count": 62,
     "metadata": {},
     "output_type": "execute_result"
    }
   ],
   "source": [
    "# arithmetic operations\n",
    "# any arithmetic operations between equal-size arrays applies the operation element-wise\n",
    "arr = np.array([[1,2,3,4,8], [1,2,5,6,9]])\n",
    "arr"
   ]
  },
  {
   "cell_type": "code",
   "execution_count": 63,
   "id": "261fbcd4",
   "metadata": {},
   "outputs": [
    {
     "data": {
      "text/plain": [
       "array([[ 1,  4,  9, 16, 64],\n",
       "       [ 1,  4, 25, 36, 81]])"
      ]
     },
     "execution_count": 63,
     "metadata": {},
     "output_type": "execute_result"
    }
   ],
   "source": [
    "arr * arr"
   ]
  },
  {
   "cell_type": "code",
   "execution_count": 64,
   "id": "c121ac81",
   "metadata": {},
   "outputs": [
    {
     "data": {
      "text/plain": [
       "array([[0, 0, 0, 0, 0],\n",
       "       [0, 0, 0, 0, 0]])"
      ]
     },
     "execution_count": 64,
     "metadata": {},
     "output_type": "execute_result"
    }
   ],
   "source": [
    "arr - arr"
   ]
  },
  {
   "cell_type": "code",
   "execution_count": 65,
   "id": "357cfe8e",
   "metadata": {},
   "outputs": [
    {
     "data": {
      "text/plain": [
       "array([[ 2,  4,  6,  8, 16],\n",
       "       [ 2,  4, 10, 12, 18]])"
      ]
     },
     "execution_count": 65,
     "metadata": {},
     "output_type": "execute_result"
    }
   ],
   "source": [
    "arr + arr"
   ]
  },
  {
   "cell_type": "code",
   "execution_count": 66,
   "id": "e734e46c",
   "metadata": {},
   "outputs": [
    {
     "data": {
      "text/plain": [
       "array([[1.        , 0.5       , 0.33333333, 0.25      , 0.125     ],\n",
       "       [1.        , 0.5       , 0.2       , 0.16666667, 0.11111111]])"
      ]
     },
     "execution_count": 66,
     "metadata": {},
     "output_type": "execute_result"
    }
   ],
   "source": [
    "# scaler\n",
    "1/arr"
   ]
  },
  {
   "cell_type": "code",
   "execution_count": 67,
   "id": "07c306d5",
   "metadata": {},
   "outputs": [
    {
     "data": {
      "text/plain": [
       "array([[0.05, 0.1 , 0.15, 0.2 , 0.4 ],\n",
       "       [0.05, 0.1 , 0.25, 0.3 , 0.45]])"
      ]
     },
     "execution_count": 67,
     "metadata": {},
     "output_type": "execute_result"
    }
   ],
   "source": [
    "arr * 0.05"
   ]
  },
  {
   "cell_type": "code",
   "execution_count": 68,
   "id": "84d812f6",
   "metadata": {},
   "outputs": [
    {
     "data": {
      "text/plain": [
       "array([[0.14285714, 0.28571429, 0.42857143, 0.57142857, 1.14285714],\n",
       "       [0.14285714, 0.28571429, 0.71428571, 0.85714286, 1.28571429]])"
      ]
     },
     "execution_count": 68,
     "metadata": {},
     "output_type": "execute_result"
    }
   ],
   "source": [
    "arr /7"
   ]
  },
  {
   "cell_type": "code",
   "execution_count": 69,
   "id": "4c7a6a3d",
   "metadata": {},
   "outputs": [
    {
     "data": {
      "text/plain": [
       "array([[1, 2, 3, 4, 8],\n",
       "       [1, 2, 5, 6, 9]])"
      ]
     },
     "execution_count": 69,
     "metadata": {},
     "output_type": "execute_result"
    }
   ],
   "source": [
    "arr"
   ]
  },
  {
   "cell_type": "code",
   "execution_count": 71,
   "id": "b1466ffb",
   "metadata": {},
   "outputs": [
    {
     "data": {
      "text/plain": [
       "array([[ True, False,  True, False, False],\n",
       "       [False, False, False, False,  True]])"
      ]
     },
     "execution_count": 71,
     "metadata": {},
     "output_type": "execute_result"
    }
   ],
   "source": [
    "arr2 = np.array([[0., 4., 1., 7., 9.], [7., 2., 12., 9., 6.]])\n",
    "arr > arr2"
   ]
  },
  {
   "cell_type": "code",
   "execution_count": 72,
   "id": "2938d870",
   "metadata": {},
   "outputs": [
    {
     "data": {
      "text/plain": [
       "array([0, 1, 2, 3, 4, 5, 6, 7, 8, 9])"
      ]
     },
     "execution_count": 72,
     "metadata": {},
     "output_type": "execute_result"
    }
   ],
   "source": [
    "# indexing and slicing\n",
    "arr = np.arange(10)\n",
    "arr"
   ]
  },
  {
   "cell_type": "code",
   "execution_count": 73,
   "id": "3b35c8c1",
   "metadata": {},
   "outputs": [
    {
     "data": {
      "text/plain": [
       "dtype('int32')"
      ]
     },
     "execution_count": 73,
     "metadata": {},
     "output_type": "execute_result"
    }
   ],
   "source": [
    "arr.dtype"
   ]
  },
  {
   "cell_type": "code",
   "execution_count": 75,
   "id": "46f77427",
   "metadata": {},
   "outputs": [
    {
     "name": "stdout",
     "output_type": "stream",
     "text": [
      "<class 'numpy.ndarray'>\n"
     ]
    }
   ],
   "source": [
    "print(type(arr))\n"
   ]
  },
  {
   "cell_type": "code",
   "execution_count": 78,
   "id": "f76e3111",
   "metadata": {},
   "outputs": [
    {
     "data": {
      "text/plain": [
       "array([0, 1, 2, 3, 4])"
      ]
     },
     "execution_count": 78,
     "metadata": {},
     "output_type": "execute_result"
    }
   ],
   "source": [
    "arr[0:5]"
   ]
  },
  {
   "cell_type": "code",
   "execution_count": 80,
   "id": "dcf90f1d",
   "metadata": {},
   "outputs": [
    {
     "name": "stdout",
     "output_type": "stream",
     "text": [
      "10\n"
     ]
    }
   ],
   "source": [
    "print(len(arr))"
   ]
  },
  {
   "cell_type": "code",
   "execution_count": 81,
   "id": "70e8f580",
   "metadata": {},
   "outputs": [
    {
     "data": {
      "text/plain": [
       "array([ 0,  1,  2,  3,  4, 99, 99,  7,  8,  9])"
      ]
     },
     "execution_count": 81,
     "metadata": {},
     "output_type": "execute_result"
    }
   ],
   "source": [
    "arr[5:7] = 99\n",
    "arr"
   ]
  },
  {
   "cell_type": "code",
   "execution_count": 85,
   "id": "01727a06",
   "metadata": {},
   "outputs": [
    {
     "data": {
      "text/plain": [
       "99"
      ]
     },
     "execution_count": 85,
     "metadata": {},
     "output_type": "execute_result"
    }
   ],
   "source": [
    "    arr[5]"
   ]
  },
  {
   "cell_type": "code",
   "execution_count": 86,
   "id": "1988cdca",
   "metadata": {},
   "outputs": [
    {
     "data": {
      "text/plain": [
       "array([99, 99,  7,  8])"
      ]
     },
     "execution_count": 86,
     "metadata": {},
     "output_type": "execute_result"
    }
   ],
   "source": [
    "arr_slice = arr[5:9]\n",
    "arr_slice"
   ]
  },
  {
   "cell_type": "code",
   "execution_count": 87,
   "id": "b0e70916",
   "metadata": {},
   "outputs": [
    {
     "data": {
      "text/plain": [
       "array([87, 99,  7,  8])"
      ]
     },
     "execution_count": 87,
     "metadata": {},
     "output_type": "execute_result"
    }
   ],
   "source": [
    "arr_slice[0] = 87\n",
    "arr_slice"
   ]
  },
  {
   "cell_type": "code",
   "execution_count": 88,
   "id": "05e0eedf",
   "metadata": {},
   "outputs": [
    {
     "data": {
      "text/plain": [
       "array([ 0,  1,  2,  3,  4, 87, 99,  7,  8,  9])"
      ]
     },
     "execution_count": 88,
     "metadata": {},
     "output_type": "execute_result"
    }
   ],
   "source": [
    "arr"
   ]
  },
  {
   "cell_type": "code",
   "execution_count": 89,
   "id": "e4e1b7c6",
   "metadata": {},
   "outputs": [
    {
     "data": {
      "text/plain": [
       "array([55, 55, 55, 55])"
      ]
     },
     "execution_count": 89,
     "metadata": {},
     "output_type": "execute_result"
    }
   ],
   "source": [
    "arr_slice[:] = 55\n",
    "arr_slice"
   ]
  },
  {
   "cell_type": "code",
   "execution_count": 90,
   "id": "18510fda",
   "metadata": {},
   "outputs": [
    {
     "data": {
      "text/plain": [
       "array([ 0,  1,  2,  3,  4, 55, 55, 55, 55,  9])"
      ]
     },
     "execution_count": 90,
     "metadata": {},
     "output_type": "execute_result"
    }
   ],
   "source": [
    "arr"
   ]
  },
  {
   "cell_type": "code",
   "execution_count": 91,
   "id": "ae80a165",
   "metadata": {},
   "outputs": [
    {
     "data": {
      "text/plain": [
       "array([[1, 2, 3],\n",
       "       [4, 5, 6],\n",
       "       [7, 8, 9]])"
      ]
     },
     "execution_count": 91,
     "metadata": {},
     "output_type": "execute_result"
    }
   ],
   "source": [
    "arr2d = np.array([[1,2,3],[4,5,6],[7,8,9]])\n",
    "arr2d"
   ]
  },
  {
   "cell_type": "code",
   "execution_count": 105,
   "id": "ee6887e6",
   "metadata": {},
   "outputs": [
    {
     "data": {
      "text/plain": [
       "array([5, 6])"
      ]
     },
     "execution_count": 105,
     "metadata": {},
     "output_type": "execute_result"
    }
   ],
   "source": [
    "arr2d[1, 1:]"
   ]
  },
  {
   "cell_type": "code",
   "execution_count": 107,
   "id": "1bc56f8c",
   "metadata": {},
   "outputs": [
    {
     "data": {
      "text/plain": [
       "(2, 2, 3)"
      ]
     },
     "execution_count": 107,
     "metadata": {},
     "output_type": "execute_result"
    }
   ],
   "source": [
    "arr3d = np.array([[[1, 2, 3], [4, 5, 6]], [[7, 8, 9], [10, 11, 12]]])\n",
    "arr3d.shape"
   ]
  },
  {
   "cell_type": "code",
   "execution_count": 112,
   "id": "6111f6b3",
   "metadata": {},
   "outputs": [
    {
     "data": {
      "text/plain": [
       "12"
      ]
     },
     "execution_count": 112,
     "metadata": {},
     "output_type": "execute_result"
    }
   ],
   "source": [
    "arr3d[1][1][2]"
   ]
  },
  {
   "cell_type": "code",
   "execution_count": 115,
   "id": "e07d74f2",
   "metadata": {},
   "outputs": [
    {
     "data": {
      "text/plain": [
       "array([[1, 2, 3],\n",
       "       [4, 5, 6]])"
      ]
     },
     "execution_count": 115,
     "metadata": {},
     "output_type": "execute_result"
    }
   ],
   "source": [
    "arr3d[0]"
   ]
  },
  {
   "cell_type": "code",
   "execution_count": 117,
   "id": "c0e20902",
   "metadata": {},
   "outputs": [],
   "source": [
    "old_values = arr3d.copy()"
   ]
  },
  {
   "cell_type": "code",
   "execution_count": 118,
   "id": "1479a077",
   "metadata": {},
   "outputs": [
    {
     "data": {
      "text/plain": [
       "array([[[ 1,  2,  3],\n",
       "        [ 4,  5,  6]],\n",
       "\n",
       "       [[ 7,  8,  9],\n",
       "        [10, 11, 12]]])"
      ]
     },
     "execution_count": 118,
     "metadata": {},
     "output_type": "execute_result"
    }
   ],
   "source": [
    "old_values"
   ]
  },
  {
   "cell_type": "code",
   "execution_count": 119,
   "id": "f3aa2ccc",
   "metadata": {},
   "outputs": [
    {
     "data": {
      "text/plain": [
       "array([[[42, 42, 42],\n",
       "        [42, 42, 42]],\n",
       "\n",
       "       [[ 7,  8,  9],\n",
       "        [10, 11, 12]]])"
      ]
     },
     "execution_count": 119,
     "metadata": {},
     "output_type": "execute_result"
    }
   ],
   "source": [
    "old_values[0] = 42\n",
    "old_values"
   ]
  },
  {
   "cell_type": "code",
   "execution_count": 120,
   "id": "983e9baf",
   "metadata": {},
   "outputs": [
    {
     "data": {
      "text/plain": [
       "array([[[ 1,  2,  3],\n",
       "        [ 4,  5,  6]],\n",
       "\n",
       "       [[ 7,  8,  9],\n",
       "        [10, 11, 12]]])"
      ]
     },
     "execution_count": 120,
     "metadata": {},
     "output_type": "execute_result"
    }
   ],
   "source": [
    "arr3d"
   ]
  },
  {
   "cell_type": "code",
   "execution_count": 134,
   "id": "39b23aba",
   "metadata": {},
   "outputs": [
    {
     "data": {
      "text/plain": [
       "1"
      ]
     },
     "execution_count": 134,
     "metadata": {},
     "output_type": "execute_result"
    }
   ],
   "source": [
    "arr3d[1,0].ndim"
   ]
  },
  {
   "cell_type": "code",
   "execution_count": 135,
   "id": "6a1b5c13",
   "metadata": {},
   "outputs": [],
   "source": [
    "x = arr3d[1]"
   ]
  },
  {
   "cell_type": "code",
   "execution_count": 136,
   "id": "c30ba97d",
   "metadata": {},
   "outputs": [
    {
     "data": {
      "text/plain": [
       "array([[ 7,  8,  9],\n",
       "       [10, 11, 12]])"
      ]
     },
     "execution_count": 136,
     "metadata": {},
     "output_type": "execute_result"
    }
   ],
   "source": [
    "x"
   ]
  },
  {
   "cell_type": "code",
   "execution_count": 144,
   "id": "3ecee8d0",
   "metadata": {},
   "outputs": [
    {
     "data": {
      "text/plain": [
       "array([7, 8, 9])"
      ]
     },
     "execution_count": 144,
     "metadata": {},
     "output_type": "execute_result"
    }
   ],
   "source": [
    "x[0]"
   ]
  },
  {
   "cell_type": "code",
   "execution_count": 140,
   "id": "b20abeb8",
   "metadata": {},
   "outputs": [],
   "source": [
    "y = np.array([1,2,3,43])"
   ]
  },
  {
   "cell_type": "code",
   "execution_count": 141,
   "id": "766dcd13",
   "metadata": {},
   "outputs": [
    {
     "data": {
      "text/plain": [
       "1"
      ]
     },
     "execution_count": 141,
     "metadata": {},
     "output_type": "execute_result"
    }
   ],
   "source": [
    "y[0]"
   ]
  },
  {
   "cell_type": "code",
   "execution_count": 145,
   "id": "bbcad81a",
   "metadata": {},
   "outputs": [
    {
     "data": {
      "text/plain": [
       "array([[1, 2, 3],\n",
       "       [4, 5, 6],\n",
       "       [7, 8, 9]])"
      ]
     },
     "execution_count": 145,
     "metadata": {},
     "output_type": "execute_result"
    }
   ],
   "source": [
    "arr2d"
   ]
  },
  {
   "cell_type": "code",
   "execution_count": 146,
   "id": "c3569fa0",
   "metadata": {},
   "outputs": [
    {
     "data": {
      "text/plain": [
       "2"
      ]
     },
     "execution_count": 146,
     "metadata": {},
     "output_type": "execute_result"
    }
   ],
   "source": [
    "arr2d.ndim"
   ]
  },
  {
   "cell_type": "code",
   "execution_count": 150,
   "id": "4bed0b40",
   "metadata": {},
   "outputs": [
    {
     "data": {
      "text/plain": [
       "array([[2, 3],\n",
       "       [5, 6]])"
      ]
     },
     "execution_count": 150,
     "metadata": {},
     "output_type": "execute_result"
    }
   ],
   "source": [
    "arr2d[:2, 1:]"
   ]
  },
  {
   "cell_type": "code",
   "execution_count": 151,
   "id": "7df9913c",
   "metadata": {},
   "outputs": [
    {
     "data": {
      "text/plain": [
       "array([[1, 2, 3],\n",
       "       [4, 5, 6],\n",
       "       [7, 8, 9]])"
      ]
     },
     "execution_count": 151,
     "metadata": {},
     "output_type": "execute_result"
    }
   ],
   "source": [
    "arr2d"
   ]
  },
  {
   "cell_type": "code",
   "execution_count": 164,
   "id": "dae66b7c",
   "metadata": {},
   "outputs": [
    {
     "data": {
      "text/plain": [
       "array([[1, 2, 3],\n",
       "       [4, 5, 6],\n",
       "       [7, 8, 9]])"
      ]
     },
     "execution_count": 164,
     "metadata": {},
     "output_type": "execute_result"
    }
   ],
   "source": [
    "arr2d[:, :3]"
   ]
  },
  {
   "cell_type": "code",
   "execution_count": 166,
   "id": "e7cd80c0",
   "metadata": {},
   "outputs": [],
   "source": [
    "arr2d[:, 1:]=0"
   ]
  },
  {
   "cell_type": "code",
   "execution_count": 167,
   "id": "498dda9b",
   "metadata": {},
   "outputs": [
    {
     "data": {
      "text/plain": [
       "array([[1, 0, 0],\n",
       "       [4, 0, 0],\n",
       "       [7, 0, 0]])"
      ]
     },
     "execution_count": 167,
     "metadata": {},
     "output_type": "execute_result"
    }
   ],
   "source": [
    "arr2d"
   ]
  },
  {
   "cell_type": "code",
   "execution_count": 168,
   "id": "528bedaa",
   "metadata": {},
   "outputs": [
    {
     "data": {
      "text/plain": [
       "array([[[ 1,  2,  3],\n",
       "        [ 4,  5,  6]],\n",
       "\n",
       "       [[ 7,  8,  9],\n",
       "        [10, 11, 12]]])"
      ]
     },
     "execution_count": 168,
     "metadata": {},
     "output_type": "execute_result"
    }
   ],
   "source": [
    "arr3d"
   ]
  },
  {
   "cell_type": "code",
   "execution_count": 174,
   "id": "38c520ba",
   "metadata": {},
   "outputs": [
    {
     "data": {
      "text/plain": [
       "11"
      ]
     },
     "execution_count": 174,
     "metadata": {},
     "output_type": "execute_result"
    }
   ],
   "source": [
    "arr3d[1][1, 1]"
   ]
  },
  {
   "cell_type": "code",
   "execution_count": 179,
   "id": "a03e84ab",
   "metadata": {},
   "outputs": [
    {
     "data": {
      "text/plain": [
       "array(['Bob', 'Joe', 'Will', 'Bob', 'Will', 'Joe', 'Joe'], dtype='<U4')"
      ]
     },
     "execution_count": 179,
     "metadata": {},
     "output_type": "execute_result"
    }
   ],
   "source": [
    "# boolean indexing\n",
    "names = np.array(['Bob', 'Joe', 'Will', 'Bob', 'Will', 'Joe', 'Joe'])\n",
    "names"
   ]
  },
  {
   "cell_type": "code",
   "execution_count": 189,
   "id": "8d281e76",
   "metadata": {},
   "outputs": [
    {
     "data": {
      "text/plain": [
       "array([[ 0.43766192, -0.16109083,  1.61857054,  1.80924946],\n",
       "       [ 0.32584053,  0.09223305, -0.18757959, -1.30924366],\n",
       "       [ 1.01849087,  0.57722587,  1.11257536,  0.12152158],\n",
       "       [-1.732732  ,  1.0529147 ,  0.709243  , -1.5691936 ],\n",
       "       [ 0.90401125, -0.18675771,  0.3989734 , -0.55606378],\n",
       "       [ 0.61519623, -1.51931523,  0.04288384, -0.6091037 ],\n",
       "       [ 1.61535641, -0.3197767 ,  0.71374334, -0.44863829]])"
      ]
     },
     "execution_count": 189,
     "metadata": {},
     "output_type": "execute_result"
    }
   ],
   "source": [
    "data = np.random.randn(7,4)\n",
    "data"
   ]
  },
  {
   "cell_type": "code",
   "execution_count": 190,
   "id": "302b7ef5",
   "metadata": {},
   "outputs": [
    {
     "data": {
      "text/plain": [
       "array([ True, False, False,  True, False, False, False])"
      ]
     },
     "execution_count": 190,
     "metadata": {},
     "output_type": "execute_result"
    }
   ],
   "source": [
    "names == 'Bob'"
   ]
  },
  {
   "cell_type": "code",
   "execution_count": 221,
   "id": "a9472880",
   "metadata": {},
   "outputs": [
    {
     "data": {
      "text/plain": [
       "array([[ 0.43766192, -0.16109083,  1.61857054,  1.80924946],\n",
       "       [-1.732732  ,  1.0529147 ,  0.709243  , -1.5691936 ]])"
      ]
     },
     "execution_count": 221,
     "metadata": {},
     "output_type": "execute_result"
    }
   ],
   "source": [
    "data[names == 'Bob']"
   ]
  },
  {
   "cell_type": "code",
   "execution_count": 231,
   "id": "860a5c88",
   "metadata": {},
   "outputs": [
    {
     "data": {
      "text/plain": [
       "array([[ 0.43766192, -0.16109083,  1.61857054,  1.80924946],\n",
       "       [ 0.32584053,  0.09223305, -0.18757959, -1.30924366],\n",
       "       [-1.732732  ,  1.0529147 ,  0.709243  , -1.5691936 ],\n",
       "       [ 0.61519623, -1.51931523,  0.04288384, -0.6091037 ],\n",
       "       [ 1.61535641, -0.3197767 ,  0.71374334, -0.44863829]])"
      ]
     },
     "execution_count": 231,
     "metadata": {},
     "output_type": "execute_result"
    }
   ],
   "source": [
    "data[(names=='Bob') | (names == \"Joe\") ] # As python keyswords 'and', 'or' does not work with boolean. Use '&', \"|\" instead"
   ]
  },
  {
   "cell_type": "code",
   "execution_count": 232,
   "id": "7d28ee45",
   "metadata": {},
   "outputs": [
    {
     "data": {
      "text/plain": [
       "array([ 1.0529147,  0.709243 , -1.5691936])"
      ]
     },
     "execution_count": 232,
     "metadata": {},
     "output_type": "execute_result"
    }
   ],
   "source": [
    "data[(names=='Bob') | (names == \"Joe\")][2][1:]"
   ]
  },
  {
   "cell_type": "code",
   "execution_count": 242,
   "id": "ce5084e7",
   "metadata": {},
   "outputs": [
    {
     "data": {
      "text/plain": [
       "array([-0.16109083, -0.18757959, -1.30924366, -1.732732  , -1.5691936 ,\n",
       "       -0.18675771, -0.55606378, -1.51931523, -0.6091037 , -0.3197767 ,\n",
       "       -0.44863829])"
      ]
     },
     "execution_count": 242,
     "metadata": {},
     "output_type": "execute_result"
    }
   ],
   "source": [
    "data[data<0]"
   ]
  },
  {
   "cell_type": "code",
   "execution_count": 243,
   "id": "ba5e1702",
   "metadata": {},
   "outputs": [
    {
     "data": {
      "text/plain": [
       "array([[ 1.        , -0.16109083,  1.        ,  1.        ],\n",
       "       [ 1.        ,  1.        , -0.18757959, -1.30924366],\n",
       "       [ 1.        ,  1.        ,  1.        ,  1.        ],\n",
       "       [-1.732732  ,  1.        ,  1.        , -1.5691936 ],\n",
       "       [ 1.        , -0.18675771,  1.        , -0.55606378],\n",
       "       [ 1.        , -1.51931523,  1.        , -0.6091037 ],\n",
       "       [ 1.        , -0.3197767 ,  1.        , -0.44863829]])"
      ]
     },
     "execution_count": 243,
     "metadata": {},
     "output_type": "execute_result"
    }
   ],
   "source": [
    "data[data>0] = 1\n",
    "data\n"
   ]
  },
  {
   "cell_type": "code",
   "execution_count": 245,
   "id": "74efc9a4",
   "metadata": {},
   "outputs": [],
   "source": [
    "data[names == \"Joe\"] = 4"
   ]
  },
  {
   "cell_type": "code",
   "execution_count": 246,
   "id": "d3c628df",
   "metadata": {},
   "outputs": [
    {
     "data": {
      "text/plain": [
       "array([[ 1.        , -0.16109083,  1.        ,  1.        ],\n",
       "       [ 4.        ,  4.        ,  4.        ,  4.        ],\n",
       "       [ 1.        ,  1.        ,  1.        ,  1.        ],\n",
       "       [-1.732732  ,  1.        ,  1.        , -1.5691936 ],\n",
       "       [ 1.        , -0.18675771,  1.        , -0.55606378],\n",
       "       [ 4.        ,  4.        ,  4.        ,  4.        ],\n",
       "       [ 4.        ,  4.        ,  4.        ,  4.        ]])"
      ]
     },
     "execution_count": 246,
     "metadata": {},
     "output_type": "execute_result"
    }
   ],
   "source": [
    "data"
   ]
  },
  {
   "cell_type": "code",
   "execution_count": 251,
   "id": "65a6cd45",
   "metadata": {},
   "outputs": [
    {
     "data": {
      "text/plain": [
       "array([[1.11851583e-311, 1.03753786e-321, 0.00000000e+000,\n",
       "        0.00000000e+000],\n",
       "       [0.00000000e+000, 5.02034658e+175, 4.50333400e+174,\n",
       "        3.34409384e-061],\n",
       "       [6.15417187e+170, 4.27788831e-037, 1.81378325e-052,\n",
       "        1.01848862e+248],\n",
       "       [1.16096643e-028, 9.80058441e+252, 1.30304358e-142,\n",
       "        1.06396443e+224],\n",
       "       [1.70100503e+256, 5.49109388e-143, 9.30537467e+199,\n",
       "        1.68439556e-052],\n",
       "       [5.45166939e-067, 1.33712233e+165, 7.86929563e-067,\n",
       "        4.66425296e-143],\n",
       "       [5.49810101e-143, 5.58288124e-091, 7.77053662e-043,\n",
       "        2.40587875e-057],\n",
       "       [4.29600106e-096, 4.82337433e+228, 3.67152456e-062,\n",
       "        1.37959129e-306]])"
      ]
     },
     "execution_count": 251,
     "metadata": {},
     "output_type": "execute_result"
    }
   ],
   "source": [
    "## fancy indexing\n",
    "arr = np.empty((8,4))\n",
    "arr"
   ]
  },
  {
   "cell_type": "code",
   "execution_count": 256,
   "id": "5e69a29e",
   "metadata": {},
   "outputs": [
    {
     "data": {
      "text/plain": [
       "1.3795912891644512e-306"
      ]
     },
     "execution_count": 256,
     "metadata": {},
     "output_type": "execute_result"
    }
   ],
   "source": [
    "arr[-1][-1]"
   ]
  },
  {
   "cell_type": "code",
   "execution_count": 263,
   "id": "2e75fcd6",
   "metadata": {},
   "outputs": [
    {
     "name": "stdout",
     "output_type": "stream",
     "text": [
      "0\n",
      "1\n",
      "2\n",
      "3\n",
      "4\n",
      "5\n",
      "6\n",
      "7\n"
     ]
    }
   ],
   "source": [
    "\n",
    "for i in range(8):\n",
    "    arr[0] = 0\n"
   ]
  },
  {
   "cell_type": "code",
   "execution_count": 261,
   "id": "5c1eb7c1",
   "metadata": {},
   "outputs": [
    {
     "data": {
      "text/plain": [
       "array([[0., 0., 0., 0.],\n",
       "       [1., 1., 1., 1.],\n",
       "       [2., 2., 2., 2.],\n",
       "       [3., 3., 3., 3.],\n",
       "       [4., 4., 4., 4.],\n",
       "       [5., 5., 5., 5.],\n",
       "       [6., 6., 6., 6.],\n",
       "       [7., 7., 7., 7.]])"
      ]
     },
     "execution_count": 261,
     "metadata": {},
     "output_type": "execute_result"
    }
   ],
   "source": [
    "arr"
   ]
  },
  {
   "cell_type": "code",
   "execution_count": 264,
   "id": "ff4e34ad",
   "metadata": {},
   "outputs": [],
   "source": [
    "arr2 = np.empty((8,4))"
   ]
  },
  {
   "cell_type": "code",
   "execution_count": 265,
   "id": "31d931d1",
   "metadata": {},
   "outputs": [],
   "source": [
    "arr2[0] = 0"
   ]
  },
  {
   "cell_type": "code",
   "execution_count": 267,
   "id": "03c8692c",
   "metadata": {},
   "outputs": [
    {
     "data": {
      "text/plain": [
       "array([[0., 0., 0., 0.],\n",
       "       [1., 1., 1., 1.],\n",
       "       [2., 2., 2., 2.],\n",
       "       [3., 3., 3., 3.],\n",
       "       [4., 4., 4., 4.],\n",
       "       [5., 5., 5., 5.],\n",
       "       [6., 6., 6., 6.],\n",
       "       [7., 7., 7., 7.]])"
      ]
     },
     "execution_count": 267,
     "metadata": {},
     "output_type": "execute_result"
    }
   ],
   "source": [
    "arr2"
   ]
  },
  {
   "cell_type": "code",
   "execution_count": 268,
   "id": "624c080c",
   "metadata": {},
   "outputs": [],
   "source": [
    "arr3 = np.empty((8,4))"
   ]
  },
  {
   "cell_type": "code",
   "execution_count": 271,
   "id": "58ecadef",
   "metadata": {},
   "outputs": [],
   "source": [
    "arr6 = np.empty((9,5))"
   ]
  },
  {
   "cell_type": "code",
   "execution_count": 272,
   "id": "bb5898be",
   "metadata": {},
   "outputs": [
    {
     "data": {
      "text/plain": [
       "array([[ 0.00000000e+000,  0.00000000e+000,  1.69724950e+137,\n",
       "        -6.62146259e-311,  0.00000000e+000],\n",
       "       [ 0.00000000e+000,  0.00000000e+000,  0.00000000e+000,\n",
       "         0.00000000e+000,  0.00000000e+000],\n",
       "       [ 7.26613223e+223, -7.30686762e-311,  0.00000000e+000,\n",
       "         0.00000000e+000,  0.00000000e+000],\n",
       "       [ 0.00000000e+000,  0.00000000e+000,  0.00000000e+000,\n",
       "         1.94933997e+243, -7.67397277e-311],\n",
       "       [ 0.00000000e+000,  0.00000000e+000,  0.00000000e+000,\n",
       "         0.00000000e+000,  0.00000000e+000],\n",
       "       [ 0.00000000e+000,  3.43531510e+228, -8.38271768e-311,\n",
       "         0.00000000e+000,  0.00000000e+000],\n",
       "       [ 0.00000000e+000,  0.00000000e+000,  0.00000000e+000,\n",
       "         0.00000000e+000,  3.11170323e-032],\n",
       "       [-8.80711670e-311,  0.00000000e+000,  0.00000000e+000,\n",
       "         0.00000000e+000,  0.00000000e+000],\n",
       "       [ 0.00000000e+000,  0.00000000e+000,  6.32672800e+180,\n",
       "        -9.47130178e-311,  0.00000000e+000]])"
      ]
     },
     "execution_count": 272,
     "metadata": {},
     "output_type": "execute_result"
    }
   ],
   "source": [
    "arr6"
   ]
  },
  {
   "cell_type": "code",
   "execution_count": 275,
   "id": "c4a566f9",
   "metadata": {},
   "outputs": [],
   "source": [
    "arr6[0] =0"
   ]
  },
  {
   "cell_type": "code",
   "execution_count": 280,
   "id": "bd5d8c0b",
   "metadata": {},
   "outputs": [],
   "source": [
    "arr6[2] = 2"
   ]
  },
  {
   "cell_type": "code",
   "execution_count": 281,
   "id": "84702015",
   "metadata": {},
   "outputs": [
    {
     "data": {
      "text/plain": [
       "array([[ 0.00000000e+000,  0.00000000e+000,  0.00000000e+000,\n",
       "         0.00000000e+000,  0.00000000e+000],\n",
       "       [ 1.00000000e+000,  1.00000000e+000,  1.00000000e+000,\n",
       "         1.00000000e+000,  1.00000000e+000],\n",
       "       [ 2.00000000e+000,  2.00000000e+000,  2.00000000e+000,\n",
       "         2.00000000e+000,  2.00000000e+000],\n",
       "       [ 0.00000000e+000,  0.00000000e+000,  0.00000000e+000,\n",
       "         1.94933997e+243, -7.67397277e-311],\n",
       "       [ 0.00000000e+000,  0.00000000e+000,  0.00000000e+000,\n",
       "         0.00000000e+000,  0.00000000e+000],\n",
       "       [ 0.00000000e+000,  3.43531510e+228, -8.38271768e-311,\n",
       "         0.00000000e+000,  0.00000000e+000],\n",
       "       [ 0.00000000e+000,  0.00000000e+000,  0.00000000e+000,\n",
       "         0.00000000e+000,  3.11170323e-032],\n",
       "       [-8.80711670e-311,  0.00000000e+000,  0.00000000e+000,\n",
       "         0.00000000e+000,  0.00000000e+000],\n",
       "       [ 0.00000000e+000,  0.00000000e+000,  6.32672800e+180,\n",
       "        -9.47130178e-311,  0.00000000e+000]])"
      ]
     },
     "execution_count": 281,
     "metadata": {},
     "output_type": "execute_result"
    }
   ],
   "source": [
    "arr6"
   ]
  },
  {
   "cell_type": "code",
   "execution_count": 282,
   "id": "d4acc7ce",
   "metadata": {},
   "outputs": [
    {
     "data": {
      "text/plain": [
       "array([[0., 0., 0., 0.],\n",
       "       [1., 1., 1., 1.],\n",
       "       [2., 2., 2., 2.],\n",
       "       [3., 3., 3., 3.],\n",
       "       [4., 4., 4., 4.],\n",
       "       [5., 5., 5., 5.],\n",
       "       [6., 6., 6., 6.],\n",
       "       [7., 7., 7., 7.]])"
      ]
     },
     "execution_count": 282,
     "metadata": {},
     "output_type": "execute_result"
    }
   ],
   "source": [
    "arr"
   ]
  },
  {
   "cell_type": "code",
   "execution_count": 283,
   "id": "1c56182d",
   "metadata": {},
   "outputs": [
    {
     "data": {
      "text/plain": [
       "array([[4., 4., 4., 4.],\n",
       "       [3., 3., 3., 3.],\n",
       "       [0., 0., 0., 0.],\n",
       "       [6., 6., 6., 6.]])"
      ]
     },
     "execution_count": 283,
     "metadata": {},
     "output_type": "execute_result"
    }
   ],
   "source": [
    "arr[[4, 3, 0, 6]]"
   ]
  },
  {
   "cell_type": "code",
   "execution_count": 290,
   "id": "f67adde4",
   "metadata": {},
   "outputs": [
    {
     "data": {
      "text/plain": [
       "array([[0., 0., 0., 0.],\n",
       "       [1., 1., 1., 1.],\n",
       "       [6., 6., 6., 6.],\n",
       "       [4., 4., 4., 4.]])"
      ]
     },
     "execution_count": 290,
     "metadata": {},
     "output_type": "execute_result"
    }
   ],
   "source": [
    "arr[[0,1,6,4]]"
   ]
  },
  {
   "cell_type": "code",
   "execution_count": 292,
   "id": "3c5921b2",
   "metadata": {},
   "outputs": [
    {
     "data": {
      "text/plain": [
       "array([[5., 5., 5., 5.],\n",
       "       [3., 3., 3., 3.],\n",
       "       [1., 1., 1., 1.]])"
      ]
     },
     "execution_count": 292,
     "metadata": {},
     "output_type": "execute_result"
    }
   ],
   "source": [
    "arr[[-3, -5, -7]]"
   ]
  },
  {
   "cell_type": "code",
   "execution_count": 293,
   "id": "fb0a16d6",
   "metadata": {},
   "outputs": [
    {
     "data": {
      "text/plain": [
       "array([[ 0,  1,  2,  3],\n",
       "       [ 4,  5,  6,  7],\n",
       "       [ 8,  9, 10, 11],\n",
       "       [12, 13, 14, 15],\n",
       "       [16, 17, 18, 19],\n",
       "       [20, 21, 22, 23],\n",
       "       [24, 25, 26, 27],\n",
       "       [28, 29, 30, 31]])"
      ]
     },
     "execution_count": 293,
     "metadata": {},
     "output_type": "execute_result"
    }
   ],
   "source": [
    "arr = np.arange(32).reshape(8,4)\n",
    "arr"
   ]
  },
  {
   "cell_type": "code",
   "execution_count": 300,
   "id": "9d746361",
   "metadata": {},
   "outputs": [
    {
     "data": {
      "text/plain": [
       "array([[ 4,  5,  6,  7],\n",
       "       [20, 21, 22, 23],\n",
       "       [28, 29, 30, 31],\n",
       "       [ 8,  9, 10, 11]])"
      ]
     },
     "execution_count": 300,
     "metadata": {},
     "output_type": "execute_result"
    }
   ],
   "source": [
    "arr[[1,5,7,2], ]"
   ]
  },
  {
   "cell_type": "code",
   "execution_count": 310,
   "id": "de55a645",
   "metadata": {},
   "outputs": [
    {
     "data": {
      "text/plain": [
       "array([ 4, 23, 29, 10])"
      ]
     },
     "execution_count": 310,
     "metadata": {},
     "output_type": "execute_result"
    }
   ],
   "source": [
    "arr[[1,5,7,2], [0,3,1,2]]"
   ]
  },
  {
   "cell_type": "code",
   "execution_count": 318,
   "id": "9617d5a1",
   "metadata": {},
   "outputs": [
    {
     "data": {
      "text/plain": [
       "array([[ 4,  7,  5,  6],\n",
       "       [20, 23, 21, 22],\n",
       "       [28, 31, 29, 30],\n",
       "       [ 8, 11,  9, 10]])"
      ]
     },
     "execution_count": 318,
     "metadata": {},
     "output_type": "execute_result"
    }
   ],
   "source": [
    "arr[[1,5,7,2]][:,[0,3,1,2]] # fancy indexing is quite interesting"
   ]
  },
  {
   "cell_type": "code",
   "execution_count": 320,
   "id": "109ee399",
   "metadata": {},
   "outputs": [],
   "source": [
    "## transposing and swapping axes\n",
    "arr = np.arange(15).reshape(3,5)"
   ]
  },
  {
   "cell_type": "code",
   "execution_count": 321,
   "id": "78596d9d",
   "metadata": {},
   "outputs": [
    {
     "data": {
      "text/plain": [
       "array([[ 0,  1,  2,  3,  4],\n",
       "       [ 5,  6,  7,  8,  9],\n",
       "       [10, 11, 12, 13, 14]])"
      ]
     },
     "execution_count": 321,
     "metadata": {},
     "output_type": "execute_result"
    }
   ],
   "source": [
    "arr"
   ]
  },
  {
   "cell_type": "code",
   "execution_count": 322,
   "id": "1f25bdb9",
   "metadata": {},
   "outputs": [
    {
     "data": {
      "text/plain": [
       "array([[ 0,  5, 10],\n",
       "       [ 1,  6, 11],\n",
       "       [ 2,  7, 12],\n",
       "       [ 3,  8, 13],\n",
       "       [ 4,  9, 14]])"
      ]
     },
     "execution_count": 322,
     "metadata": {},
     "output_type": "execute_result"
    }
   ],
   "source": [
    "arr.T"
   ]
  },
  {
   "cell_type": "code",
   "execution_count": 323,
   "id": "8bce59be",
   "metadata": {},
   "outputs": [
    {
     "data": {
      "text/plain": [
       "array([[ 0,  1,  2,  3,  4],\n",
       "       [ 5,  6,  7,  8,  9],\n",
       "       [10, 11, 12, 13, 14]])"
      ]
     },
     "execution_count": 323,
     "metadata": {},
     "output_type": "execute_result"
    }
   ],
   "source": [
    "arr"
   ]
  },
  {
   "cell_type": "code",
   "execution_count": 324,
   "id": "a82d553d",
   "metadata": {},
   "outputs": [
    {
     "data": {
      "text/plain": [
       "array([[125, 140, 155, 170, 185],\n",
       "       [140, 158, 176, 194, 212],\n",
       "       [155, 176, 197, 218, 239],\n",
       "       [170, 194, 218, 242, 266],\n",
       "       [185, 212, 239, 266, 293]])"
      ]
     },
     "execution_count": 324,
     "metadata": {},
     "output_type": "execute_result"
    }
   ],
   "source": [
    "dot_pro = np.dot(arr.T, arr)\n",
    "dot_pro"
   ]
  },
  {
   "cell_type": "code",
   "execution_count": 326,
   "id": "12fa02fc",
   "metadata": {},
   "outputs": [],
   "source": [
    "arr2 = np.arange(16).reshape(2,2,4)"
   ]
  },
  {
   "cell_type": "code",
   "execution_count": 333,
   "id": "2253dee6",
   "metadata": {},
   "outputs": [
    {
     "data": {
      "text/plain": [
       "array([[[ 0,  1,  2,  3],\n",
       "        [ 4,  5,  6,  7]],\n",
       "\n",
       "       [[ 8,  9, 10, 11],\n",
       "        [12, 13, 14, 15]]])"
      ]
     },
     "execution_count": 333,
     "metadata": {},
     "output_type": "execute_result"
    }
   ],
   "source": [
    "arr2"
   ]
  },
  {
   "cell_type": "code",
   "execution_count": 334,
   "id": "a2ac1870",
   "metadata": {},
   "outputs": [
    {
     "data": {
      "text/plain": [
       "array([[[ 0,  8],\n",
       "        [ 4, 12]],\n",
       "\n",
       "       [[ 1,  9],\n",
       "        [ 5, 13]],\n",
       "\n",
       "       [[ 2, 10],\n",
       "        [ 6, 14]],\n",
       "\n",
       "       [[ 3, 11],\n",
       "        [ 7, 15]]])"
      ]
     },
     "execution_count": 334,
     "metadata": {},
     "output_type": "execute_result"
    }
   ],
   "source": [
    "arr2.T"
   ]
  },
  {
   "cell_type": "code",
   "execution_count": 339,
   "id": "451a7d47",
   "metadata": {},
   "outputs": [
    {
     "data": {
      "text/plain": [
       "12"
      ]
     },
     "execution_count": 339,
     "metadata": {},
     "output_type": "execute_result"
    }
   ],
   "source": [
    "arr2.T[0][1][1]"
   ]
  },
  {
   "cell_type": "code",
   "execution_count": 340,
   "id": "be1821e6",
   "metadata": {},
   "outputs": [
    {
     "data": {
      "text/plain": [
       "array([[ 0,  1,  2,  3,  4],\n",
       "       [ 5,  6,  7,  8,  9],\n",
       "       [10, 11, 12, 13, 14]])"
      ]
     },
     "execution_count": 340,
     "metadata": {},
     "output_type": "execute_result"
    }
   ],
   "source": [
    "arr"
   ]
  },
  {
   "cell_type": "code",
   "execution_count": 349,
   "id": "b44289c6",
   "metadata": {},
   "outputs": [
    {
     "data": {
      "text/plain": [
       "array([[0, 4],\n",
       "       [5, 9]])"
      ]
     },
     "execution_count": 349,
     "metadata": {},
     "output_type": "execute_result"
    }
   ],
   "source": [
    "arr[[0,1]][:,[0, -1]] # fancy indexing"
   ]
  },
  {
   "cell_type": "code",
   "execution_count": 350,
   "id": "5ed3f943",
   "metadata": {},
   "outputs": [
    {
     "data": {
      "text/plain": [
       "array([[ 0,  1,  2,  3,  4],\n",
       "       [ 5,  6,  7,  8,  9],\n",
       "       [10, 11, 12, 13, 14]])"
      ]
     },
     "execution_count": 350,
     "metadata": {},
     "output_type": "execute_result"
    }
   ],
   "source": [
    "arr"
   ]
  },
  {
   "cell_type": "code",
   "execution_count": 351,
   "id": "a2eaea94",
   "metadata": {},
   "outputs": [
    {
     "data": {
      "text/plain": [
       "array([[[ 0,  1,  2,  3],\n",
       "        [ 4,  5,  6,  7]],\n",
       "\n",
       "       [[ 8,  9, 10, 11],\n",
       "        [12, 13, 14, 15]]])"
      ]
     },
     "execution_count": 351,
     "metadata": {},
     "output_type": "execute_result"
    }
   ],
   "source": [
    "arr2"
   ]
  },
  {
   "cell_type": "raw",
   "id": "8023d60d",
   "metadata": {},
   "source": [
    "arr2.shape"
   ]
  },
  {
   "cell_type": "code",
   "execution_count": 352,
   "id": "ee233b5d",
   "metadata": {},
   "outputs": [
    {
     "data": {
      "text/plain": [
       "(2, 2, 4)"
      ]
     },
     "execution_count": 352,
     "metadata": {},
     "output_type": "execute_result"
    }
   ],
   "source": [
    "arr2.shape"
   ]
  },
  {
   "cell_type": "code",
   "execution_count": 358,
   "id": "36455ec2",
   "metadata": {},
   "outputs": [
    {
     "data": {
      "text/plain": [
       "array([[[ 0,  1,  2,  3],\n",
       "        [ 8,  9, 10, 11]],\n",
       "\n",
       "       [[ 4,  5,  6,  7],\n",
       "        [12, 13, 14, 15]]])"
      ]
     },
     "execution_count": 358,
     "metadata": {},
     "output_type": "execute_result"
    }
   ],
   "source": [
    "arr2.transpose((1,0,2))"
   ]
  },
  {
   "cell_type": "code",
   "execution_count": 364,
   "id": "c35413db",
   "metadata": {},
   "outputs": [
    {
     "data": {
      "text/plain": [
       "array([[[ 0,  4],\n",
       "        [ 1,  5],\n",
       "        [ 2,  6],\n",
       "        [ 3,  7]],\n",
       "\n",
       "       [[ 8, 12],\n",
       "        [ 9, 13],\n",
       "        [10, 14],\n",
       "        [11, 15]]])"
      ]
     },
     "execution_count": 364,
     "metadata": {},
     "output_type": "execute_result"
    }
   ],
   "source": [
    "arr2.swapaxes(1,2)"
   ]
  },
  {
   "cell_type": "code",
   "execution_count": 369,
   "id": "05aef45a",
   "metadata": {},
   "outputs": [
    {
     "data": {
      "text/plain": [
       "(1, 2, 3)"
      ]
     },
     "execution_count": 369,
     "metadata": {},
     "output_type": "execute_result"
    }
   ],
   "source": [
    "x = np.empty((1, 2, 3))\n",
    "x.shape\n"
   ]
  },
  {
   "cell_type": "code",
   "execution_count": 372,
   "id": "dbfd4057",
   "metadata": {},
   "outputs": [
    {
     "data": {
      "text/plain": [
       "array([[[1., 1., 1.],\n",
       "        [1., 1., 1.]]])"
      ]
     },
     "execution_count": 372,
     "metadata": {},
     "output_type": "execute_result"
    }
   ],
   "source": [
    "x"
   ]
  },
  {
   "cell_type": "code",
   "execution_count": 371,
   "id": "7b97c0d1",
   "metadata": {},
   "outputs": [
    {
     "data": {
      "text/plain": [
       "(2, 1, 3)"
      ]
     },
     "execution_count": 371,
     "metadata": {},
     "output_type": "execute_result"
    }
   ],
   "source": [
    "x.transpose(1,0,2).shape"
   ]
  },
  {
   "cell_type": "code",
   "execution_count": 375,
   "id": "e43d0944",
   "metadata": {},
   "outputs": [
    {
     "data": {
      "text/plain": [
       "array([[[1., 1., 1.]],\n",
       "\n",
       "       [[1., 1., 1.]]])"
      ]
     },
     "execution_count": 375,
     "metadata": {},
     "output_type": "execute_result"
    }
   ],
   "source": [
    "x.transpose(1,0,2)"
   ]
  },
  {
   "cell_type": "code",
   "execution_count": 3,
   "id": "d325ff09",
   "metadata": {},
   "outputs": [],
   "source": [
    "arr = np.arange(10)"
   ]
  },
  {
   "cell_type": "code",
   "execution_count": 4,
   "id": "6676fe28",
   "metadata": {},
   "outputs": [
    {
     "data": {
      "text/plain": [
       "array([0.        , 1.        , 1.41421356, 1.73205081, 2.        ,\n",
       "       2.23606798, 2.44948974, 2.64575131, 2.82842712, 3.        ])"
      ]
     },
     "execution_count": 4,
     "metadata": {},
     "output_type": "execute_result"
    }
   ],
   "source": [
    "np.sqrt(arr)"
   ]
  },
  {
   "cell_type": "code",
   "execution_count": 5,
   "id": "f51314d8",
   "metadata": {},
   "outputs": [
    {
     "data": {
      "text/plain": [
       "array([1.00000000e+00, 2.71828183e+00, 7.38905610e+00, 2.00855369e+01,\n",
       "       5.45981500e+01, 1.48413159e+02, 4.03428793e+02, 1.09663316e+03,\n",
       "       2.98095799e+03, 8.10308393e+03])"
      ]
     },
     "execution_count": 5,
     "metadata": {},
     "output_type": "execute_result"
    }
   ],
   "source": [
    "np.exp(arr)"
   ]
  },
  {
   "cell_type": "code",
   "execution_count": 6,
   "id": "2f32a62b",
   "metadata": {},
   "outputs": [],
   "source": [
    "x = np.random.randn(8)\n",
    "y = np.random.randn(8)"
   ]
  },
  {
   "cell_type": "code",
   "execution_count": 7,
   "id": "7a8c8773",
   "metadata": {},
   "outputs": [
    {
     "data": {
      "text/plain": [
       "array([-1.67633016,  0.0596602 ,  1.77046104, -0.16761696,  0.56829652,\n",
       "       -0.01579196,  0.55772473,  0.66547621])"
      ]
     },
     "execution_count": 7,
     "metadata": {},
     "output_type": "execute_result"
    }
   ],
   "source": [
    "x"
   ]
  },
  {
   "cell_type": "code",
   "execution_count": 8,
   "id": "8d2d8070",
   "metadata": {},
   "outputs": [
    {
     "data": {
      "text/plain": [
       "array([ 0.90499101, -2.05842347, -0.32119106,  1.60134532,  1.36693026,\n",
       "       -1.03729138,  0.15232591, -1.3682344 ])"
      ]
     },
     "execution_count": 8,
     "metadata": {},
     "output_type": "execute_result"
    }
   ],
   "source": [
    "y"
   ]
  },
  {
   "cell_type": "code",
   "execution_count": 9,
   "id": "832de700",
   "metadata": {},
   "outputs": [
    {
     "data": {
      "text/plain": [
       "array([ 0.90499101,  0.0596602 ,  1.77046104,  1.60134532,  1.36693026,\n",
       "       -0.01579196,  0.55772473,  0.66547621])"
      ]
     },
     "execution_count": 9,
     "metadata": {},
     "output_type": "execute_result"
    }
   ],
   "source": [
    "np.maximum(x,y)"
   ]
  },
  {
   "cell_type": "code",
   "execution_count": 11,
   "id": "1932e5b9",
   "metadata": {},
   "outputs": [],
   "source": [
    "arr = np.random.randn(8)"
   ]
  },
  {
   "cell_type": "code",
   "execution_count": 14,
   "id": "fa7ba6f0",
   "metadata": {},
   "outputs": [
    {
     "data": {
      "text/plain": [
       "array([-0.53725435,  0.45324906,  0.47029415,  0.75374932, -2.96696415,\n",
       "        0.13540582, -0.9131581 , -0.72509518])"
      ]
     },
     "execution_count": 14,
     "metadata": {},
     "output_type": "execute_result"
    }
   ],
   "source": [
    "arr"
   ]
  },
  {
   "cell_type": "code",
   "execution_count": 12,
   "id": "edbf8e5e",
   "metadata": {},
   "outputs": [],
   "source": [
    "remainder, whole_part = np.modf(arr)"
   ]
  },
  {
   "cell_type": "code",
   "execution_count": 15,
   "id": "1ba0bfee",
   "metadata": {},
   "outputs": [
    {
     "data": {
      "text/plain": [
       "array([-0.53725435,  0.45324906,  0.47029415,  0.75374932, -0.96696415,\n",
       "        0.13540582, -0.9131581 , -0.72509518])"
      ]
     },
     "execution_count": 15,
     "metadata": {},
     "output_type": "execute_result"
    }
   ],
   "source": [
    "remainder"
   ]
  },
  {
   "cell_type": "code",
   "execution_count": 16,
   "id": "c07ac952",
   "metadata": {},
   "outputs": [
    {
     "data": {
      "text/plain": [
       "array([-0.,  0.,  0.,  0., -2.,  0., -0., -0.])"
      ]
     },
     "execution_count": 16,
     "metadata": {},
     "output_type": "execute_result"
    }
   ],
   "source": [
    "whole_part"
   ]
  },
  {
   "cell_type": "code",
   "execution_count": 17,
   "id": "39b73964",
   "metadata": {},
   "outputs": [
    {
     "data": {
      "text/plain": [
       "array([-0.53725435,  0.45324906,  0.47029415,  0.75374932, -2.96696415,\n",
       "        0.13540582, -0.9131581 , -0.72509518])"
      ]
     },
     "execution_count": 17,
     "metadata": {},
     "output_type": "execute_result"
    }
   ],
   "source": [
    "arr"
   ]
  },
  {
   "cell_type": "code",
   "execution_count": 18,
   "id": "6d7c2593",
   "metadata": {},
   "outputs": [
    {
     "name": "stderr",
     "output_type": "stream",
     "text": [
      "C:\\Users\\E15\\AppData\\Local\\Temp/ipykernel_31936/2296558006.py:1: RuntimeWarning: invalid value encountered in sqrt\n",
      "  np.sqrt(arr)\n"
     ]
    },
    {
     "data": {
      "text/plain": [
       "array([       nan, 0.67323774, 0.68577995, 0.86818738,        nan,\n",
       "       0.3679753 ,        nan,        nan])"
      ]
     },
     "execution_count": 18,
     "metadata": {},
     "output_type": "execute_result"
    }
   ],
   "source": [
    "np.sqrt(arr)"
   ]
  },
  {
   "cell_type": "code",
   "execution_count": 19,
   "id": "a5349a50",
   "metadata": {},
   "outputs": [
    {
     "name": "stderr",
     "output_type": "stream",
     "text": [
      "C:\\Users\\E15\\AppData\\Local\\Temp/ipykernel_31936/269955669.py:1: RuntimeWarning: invalid value encountered in sqrt\n",
      "  np.sqrt(arr, arr)\n"
     ]
    },
    {
     "data": {
      "text/plain": [
       "array([       nan, 0.67323774, 0.68577995, 0.86818738,        nan,\n",
       "       0.3679753 ,        nan,        nan])"
      ]
     },
     "execution_count": 19,
     "metadata": {},
     "output_type": "execute_result"
    }
   ],
   "source": [
    "np.sqrt(arr, arr)"
   ]
  },
  {
   "cell_type": "code",
   "execution_count": 20,
   "id": "83f91357",
   "metadata": {},
   "outputs": [
    {
     "data": {
      "text/plain": [
       "array([       nan, 0.67323774, 0.68577995, 0.86818738,        nan,\n",
       "       0.3679753 ,        nan,        nan])"
      ]
     },
     "execution_count": 20,
     "metadata": {},
     "output_type": "execute_result"
    }
   ],
   "source": [
    "arr"
   ]
  },
  {
   "cell_type": "code",
   "execution_count": 21,
   "id": "2d9a68d0",
   "metadata": {},
   "outputs": [
    {
     "data": {
      "text/plain": [
       "array([-5.0000000e+00, -4.9900000e+00, -4.9800000e+00, -4.9700000e+00,\n",
       "       -4.9600000e+00, -4.9500000e+00, -4.9400000e+00, -4.9300000e+00,\n",
       "       -4.9200000e+00, -4.9100000e+00, -4.9000000e+00, -4.8900000e+00,\n",
       "       -4.8800000e+00, -4.8700000e+00, -4.8600000e+00, -4.8500000e+00,\n",
       "       -4.8400000e+00, -4.8300000e+00, -4.8200000e+00, -4.8100000e+00,\n",
       "       -4.8000000e+00, -4.7900000e+00, -4.7800000e+00, -4.7700000e+00,\n",
       "       -4.7600000e+00, -4.7500000e+00, -4.7400000e+00, -4.7300000e+00,\n",
       "       -4.7200000e+00, -4.7100000e+00, -4.7000000e+00, -4.6900000e+00,\n",
       "       -4.6800000e+00, -4.6700000e+00, -4.6600000e+00, -4.6500000e+00,\n",
       "       -4.6400000e+00, -4.6300000e+00, -4.6200000e+00, -4.6100000e+00,\n",
       "       -4.6000000e+00, -4.5900000e+00, -4.5800000e+00, -4.5700000e+00,\n",
       "       -4.5600000e+00, -4.5500000e+00, -4.5400000e+00, -4.5300000e+00,\n",
       "       -4.5200000e+00, -4.5100000e+00, -4.5000000e+00, -4.4900000e+00,\n",
       "       -4.4800000e+00, -4.4700000e+00, -4.4600000e+00, -4.4500000e+00,\n",
       "       -4.4400000e+00, -4.4300000e+00, -4.4200000e+00, -4.4100000e+00,\n",
       "       -4.4000000e+00, -4.3900000e+00, -4.3800000e+00, -4.3700000e+00,\n",
       "       -4.3600000e+00, -4.3500000e+00, -4.3400000e+00, -4.3300000e+00,\n",
       "       -4.3200000e+00, -4.3100000e+00, -4.3000000e+00, -4.2900000e+00,\n",
       "       -4.2800000e+00, -4.2700000e+00, -4.2600000e+00, -4.2500000e+00,\n",
       "       -4.2400000e+00, -4.2300000e+00, -4.2200000e+00, -4.2100000e+00,\n",
       "       -4.2000000e+00, -4.1900000e+00, -4.1800000e+00, -4.1700000e+00,\n",
       "       -4.1600000e+00, -4.1500000e+00, -4.1400000e+00, -4.1300000e+00,\n",
       "       -4.1200000e+00, -4.1100000e+00, -4.1000000e+00, -4.0900000e+00,\n",
       "       -4.0800000e+00, -4.0700000e+00, -4.0600000e+00, -4.0500000e+00,\n",
       "       -4.0400000e+00, -4.0300000e+00, -4.0200000e+00, -4.0100000e+00,\n",
       "       -4.0000000e+00, -3.9900000e+00, -3.9800000e+00, -3.9700000e+00,\n",
       "       -3.9600000e+00, -3.9500000e+00, -3.9400000e+00, -3.9300000e+00,\n",
       "       -3.9200000e+00, -3.9100000e+00, -3.9000000e+00, -3.8900000e+00,\n",
       "       -3.8800000e+00, -3.8700000e+00, -3.8600000e+00, -3.8500000e+00,\n",
       "       -3.8400000e+00, -3.8300000e+00, -3.8200000e+00, -3.8100000e+00,\n",
       "       -3.8000000e+00, -3.7900000e+00, -3.7800000e+00, -3.7700000e+00,\n",
       "       -3.7600000e+00, -3.7500000e+00, -3.7400000e+00, -3.7300000e+00,\n",
       "       -3.7200000e+00, -3.7100000e+00, -3.7000000e+00, -3.6900000e+00,\n",
       "       -3.6800000e+00, -3.6700000e+00, -3.6600000e+00, -3.6500000e+00,\n",
       "       -3.6400000e+00, -3.6300000e+00, -3.6200000e+00, -3.6100000e+00,\n",
       "       -3.6000000e+00, -3.5900000e+00, -3.5800000e+00, -3.5700000e+00,\n",
       "       -3.5600000e+00, -3.5500000e+00, -3.5400000e+00, -3.5300000e+00,\n",
       "       -3.5200000e+00, -3.5100000e+00, -3.5000000e+00, -3.4900000e+00,\n",
       "       -3.4800000e+00, -3.4700000e+00, -3.4600000e+00, -3.4500000e+00,\n",
       "       -3.4400000e+00, -3.4300000e+00, -3.4200000e+00, -3.4100000e+00,\n",
       "       -3.4000000e+00, -3.3900000e+00, -3.3800000e+00, -3.3700000e+00,\n",
       "       -3.3600000e+00, -3.3500000e+00, -3.3400000e+00, -3.3300000e+00,\n",
       "       -3.3200000e+00, -3.3100000e+00, -3.3000000e+00, -3.2900000e+00,\n",
       "       -3.2800000e+00, -3.2700000e+00, -3.2600000e+00, -3.2500000e+00,\n",
       "       -3.2400000e+00, -3.2300000e+00, -3.2200000e+00, -3.2100000e+00,\n",
       "       -3.2000000e+00, -3.1900000e+00, -3.1800000e+00, -3.1700000e+00,\n",
       "       -3.1600000e+00, -3.1500000e+00, -3.1400000e+00, -3.1300000e+00,\n",
       "       -3.1200000e+00, -3.1100000e+00, -3.1000000e+00, -3.0900000e+00,\n",
       "       -3.0800000e+00, -3.0700000e+00, -3.0600000e+00, -3.0500000e+00,\n",
       "       -3.0400000e+00, -3.0300000e+00, -3.0200000e+00, -3.0100000e+00,\n",
       "       -3.0000000e+00, -2.9900000e+00, -2.9800000e+00, -2.9700000e+00,\n",
       "       -2.9600000e+00, -2.9500000e+00, -2.9400000e+00, -2.9300000e+00,\n",
       "       -2.9200000e+00, -2.9100000e+00, -2.9000000e+00, -2.8900000e+00,\n",
       "       -2.8800000e+00, -2.8700000e+00, -2.8600000e+00, -2.8500000e+00,\n",
       "       -2.8400000e+00, -2.8300000e+00, -2.8200000e+00, -2.8100000e+00,\n",
       "       -2.8000000e+00, -2.7900000e+00, -2.7800000e+00, -2.7700000e+00,\n",
       "       -2.7600000e+00, -2.7500000e+00, -2.7400000e+00, -2.7300000e+00,\n",
       "       -2.7200000e+00, -2.7100000e+00, -2.7000000e+00, -2.6900000e+00,\n",
       "       -2.6800000e+00, -2.6700000e+00, -2.6600000e+00, -2.6500000e+00,\n",
       "       -2.6400000e+00, -2.6300000e+00, -2.6200000e+00, -2.6100000e+00,\n",
       "       -2.6000000e+00, -2.5900000e+00, -2.5800000e+00, -2.5700000e+00,\n",
       "       -2.5600000e+00, -2.5500000e+00, -2.5400000e+00, -2.5300000e+00,\n",
       "       -2.5200000e+00, -2.5100000e+00, -2.5000000e+00, -2.4900000e+00,\n",
       "       -2.4800000e+00, -2.4700000e+00, -2.4600000e+00, -2.4500000e+00,\n",
       "       -2.4400000e+00, -2.4300000e+00, -2.4200000e+00, -2.4100000e+00,\n",
       "       -2.4000000e+00, -2.3900000e+00, -2.3800000e+00, -2.3700000e+00,\n",
       "       -2.3600000e+00, -2.3500000e+00, -2.3400000e+00, -2.3300000e+00,\n",
       "       -2.3200000e+00, -2.3100000e+00, -2.3000000e+00, -2.2900000e+00,\n",
       "       -2.2800000e+00, -2.2700000e+00, -2.2600000e+00, -2.2500000e+00,\n",
       "       -2.2400000e+00, -2.2300000e+00, -2.2200000e+00, -2.2100000e+00,\n",
       "       -2.2000000e+00, -2.1900000e+00, -2.1800000e+00, -2.1700000e+00,\n",
       "       -2.1600000e+00, -2.1500000e+00, -2.1400000e+00, -2.1300000e+00,\n",
       "       -2.1200000e+00, -2.1100000e+00, -2.1000000e+00, -2.0900000e+00,\n",
       "       -2.0800000e+00, -2.0700000e+00, -2.0600000e+00, -2.0500000e+00,\n",
       "       -2.0400000e+00, -2.0300000e+00, -2.0200000e+00, -2.0100000e+00,\n",
       "       -2.0000000e+00, -1.9900000e+00, -1.9800000e+00, -1.9700000e+00,\n",
       "       -1.9600000e+00, -1.9500000e+00, -1.9400000e+00, -1.9300000e+00,\n",
       "       -1.9200000e+00, -1.9100000e+00, -1.9000000e+00, -1.8900000e+00,\n",
       "       -1.8800000e+00, -1.8700000e+00, -1.8600000e+00, -1.8500000e+00,\n",
       "       -1.8400000e+00, -1.8300000e+00, -1.8200000e+00, -1.8100000e+00,\n",
       "       -1.8000000e+00, -1.7900000e+00, -1.7800000e+00, -1.7700000e+00,\n",
       "       -1.7600000e+00, -1.7500000e+00, -1.7400000e+00, -1.7300000e+00,\n",
       "       -1.7200000e+00, -1.7100000e+00, -1.7000000e+00, -1.6900000e+00,\n",
       "       -1.6800000e+00, -1.6700000e+00, -1.6600000e+00, -1.6500000e+00,\n",
       "       -1.6400000e+00, -1.6300000e+00, -1.6200000e+00, -1.6100000e+00,\n",
       "       -1.6000000e+00, -1.5900000e+00, -1.5800000e+00, -1.5700000e+00,\n",
       "       -1.5600000e+00, -1.5500000e+00, -1.5400000e+00, -1.5300000e+00,\n",
       "       -1.5200000e+00, -1.5100000e+00, -1.5000000e+00, -1.4900000e+00,\n",
       "       -1.4800000e+00, -1.4700000e+00, -1.4600000e+00, -1.4500000e+00,\n",
       "       -1.4400000e+00, -1.4300000e+00, -1.4200000e+00, -1.4100000e+00,\n",
       "       -1.4000000e+00, -1.3900000e+00, -1.3800000e+00, -1.3700000e+00,\n",
       "       -1.3600000e+00, -1.3500000e+00, -1.3400000e+00, -1.3300000e+00,\n",
       "       -1.3200000e+00, -1.3100000e+00, -1.3000000e+00, -1.2900000e+00,\n",
       "       -1.2800000e+00, -1.2700000e+00, -1.2600000e+00, -1.2500000e+00,\n",
       "       -1.2400000e+00, -1.2300000e+00, -1.2200000e+00, -1.2100000e+00,\n",
       "       -1.2000000e+00, -1.1900000e+00, -1.1800000e+00, -1.1700000e+00,\n",
       "       -1.1600000e+00, -1.1500000e+00, -1.1400000e+00, -1.1300000e+00,\n",
       "       -1.1200000e+00, -1.1100000e+00, -1.1000000e+00, -1.0900000e+00,\n",
       "       -1.0800000e+00, -1.0700000e+00, -1.0600000e+00, -1.0500000e+00,\n",
       "       -1.0400000e+00, -1.0300000e+00, -1.0200000e+00, -1.0100000e+00,\n",
       "       -1.0000000e+00, -9.9000000e-01, -9.8000000e-01, -9.7000000e-01,\n",
       "       -9.6000000e-01, -9.5000000e-01, -9.4000000e-01, -9.3000000e-01,\n",
       "       -9.2000000e-01, -9.1000000e-01, -9.0000000e-01, -8.9000000e-01,\n",
       "       -8.8000000e-01, -8.7000000e-01, -8.6000000e-01, -8.5000000e-01,\n",
       "       -8.4000000e-01, -8.3000000e-01, -8.2000000e-01, -8.1000000e-01,\n",
       "       -8.0000000e-01, -7.9000000e-01, -7.8000000e-01, -7.7000000e-01,\n",
       "       -7.6000000e-01, -7.5000000e-01, -7.4000000e-01, -7.3000000e-01,\n",
       "       -7.2000000e-01, -7.1000000e-01, -7.0000000e-01, -6.9000000e-01,\n",
       "       -6.8000000e-01, -6.7000000e-01, -6.6000000e-01, -6.5000000e-01,\n",
       "       -6.4000000e-01, -6.3000000e-01, -6.2000000e-01, -6.1000000e-01,\n",
       "       -6.0000000e-01, -5.9000000e-01, -5.8000000e-01, -5.7000000e-01,\n",
       "       -5.6000000e-01, -5.5000000e-01, -5.4000000e-01, -5.3000000e-01,\n",
       "       -5.2000000e-01, -5.1000000e-01, -5.0000000e-01, -4.9000000e-01,\n",
       "       -4.8000000e-01, -4.7000000e-01, -4.6000000e-01, -4.5000000e-01,\n",
       "       -4.4000000e-01, -4.3000000e-01, -4.2000000e-01, -4.1000000e-01,\n",
       "       -4.0000000e-01, -3.9000000e-01, -3.8000000e-01, -3.7000000e-01,\n",
       "       -3.6000000e-01, -3.5000000e-01, -3.4000000e-01, -3.3000000e-01,\n",
       "       -3.2000000e-01, -3.1000000e-01, -3.0000000e-01, -2.9000000e-01,\n",
       "       -2.8000000e-01, -2.7000000e-01, -2.6000000e-01, -2.5000000e-01,\n",
       "       -2.4000000e-01, -2.3000000e-01, -2.2000000e-01, -2.1000000e-01,\n",
       "       -2.0000000e-01, -1.9000000e-01, -1.8000000e-01, -1.7000000e-01,\n",
       "       -1.6000000e-01, -1.5000000e-01, -1.4000000e-01, -1.3000000e-01,\n",
       "       -1.2000000e-01, -1.1000000e-01, -1.0000000e-01, -9.0000000e-02,\n",
       "       -8.0000000e-02, -7.0000000e-02, -6.0000000e-02, -5.0000000e-02,\n",
       "       -4.0000000e-02, -3.0000000e-02, -2.0000000e-02, -1.0000000e-02,\n",
       "       -1.0658141e-13,  1.0000000e-02,  2.0000000e-02,  3.0000000e-02,\n",
       "        4.0000000e-02,  5.0000000e-02,  6.0000000e-02,  7.0000000e-02,\n",
       "        8.0000000e-02,  9.0000000e-02,  1.0000000e-01,  1.1000000e-01,\n",
       "        1.2000000e-01,  1.3000000e-01,  1.4000000e-01,  1.5000000e-01,\n",
       "        1.6000000e-01,  1.7000000e-01,  1.8000000e-01,  1.9000000e-01,\n",
       "        2.0000000e-01,  2.1000000e-01,  2.2000000e-01,  2.3000000e-01,\n",
       "        2.4000000e-01,  2.5000000e-01,  2.6000000e-01,  2.7000000e-01,\n",
       "        2.8000000e-01,  2.9000000e-01,  3.0000000e-01,  3.1000000e-01,\n",
       "        3.2000000e-01,  3.3000000e-01,  3.4000000e-01,  3.5000000e-01,\n",
       "        3.6000000e-01,  3.7000000e-01,  3.8000000e-01,  3.9000000e-01,\n",
       "        4.0000000e-01,  4.1000000e-01,  4.2000000e-01,  4.3000000e-01,\n",
       "        4.4000000e-01,  4.5000000e-01,  4.6000000e-01,  4.7000000e-01,\n",
       "        4.8000000e-01,  4.9000000e-01,  5.0000000e-01,  5.1000000e-01,\n",
       "        5.2000000e-01,  5.3000000e-01,  5.4000000e-01,  5.5000000e-01,\n",
       "        5.6000000e-01,  5.7000000e-01,  5.8000000e-01,  5.9000000e-01,\n",
       "        6.0000000e-01,  6.1000000e-01,  6.2000000e-01,  6.3000000e-01,\n",
       "        6.4000000e-01,  6.5000000e-01,  6.6000000e-01,  6.7000000e-01,\n",
       "        6.8000000e-01,  6.9000000e-01,  7.0000000e-01,  7.1000000e-01,\n",
       "        7.2000000e-01,  7.3000000e-01,  7.4000000e-01,  7.5000000e-01,\n",
       "        7.6000000e-01,  7.7000000e-01,  7.8000000e-01,  7.9000000e-01,\n",
       "        8.0000000e-01,  8.1000000e-01,  8.2000000e-01,  8.3000000e-01,\n",
       "        8.4000000e-01,  8.5000000e-01,  8.6000000e-01,  8.7000000e-01,\n",
       "        8.8000000e-01,  8.9000000e-01,  9.0000000e-01,  9.1000000e-01,\n",
       "        9.2000000e-01,  9.3000000e-01,  9.4000000e-01,  9.5000000e-01,\n",
       "        9.6000000e-01,  9.7000000e-01,  9.8000000e-01,  9.9000000e-01,\n",
       "        1.0000000e+00,  1.0100000e+00,  1.0200000e+00,  1.0300000e+00,\n",
       "        1.0400000e+00,  1.0500000e+00,  1.0600000e+00,  1.0700000e+00,\n",
       "        1.0800000e+00,  1.0900000e+00,  1.1000000e+00,  1.1100000e+00,\n",
       "        1.1200000e+00,  1.1300000e+00,  1.1400000e+00,  1.1500000e+00,\n",
       "        1.1600000e+00,  1.1700000e+00,  1.1800000e+00,  1.1900000e+00,\n",
       "        1.2000000e+00,  1.2100000e+00,  1.2200000e+00,  1.2300000e+00,\n",
       "        1.2400000e+00,  1.2500000e+00,  1.2600000e+00,  1.2700000e+00,\n",
       "        1.2800000e+00,  1.2900000e+00,  1.3000000e+00,  1.3100000e+00,\n",
       "        1.3200000e+00,  1.3300000e+00,  1.3400000e+00,  1.3500000e+00,\n",
       "        1.3600000e+00,  1.3700000e+00,  1.3800000e+00,  1.3900000e+00,\n",
       "        1.4000000e+00,  1.4100000e+00,  1.4200000e+00,  1.4300000e+00,\n",
       "        1.4400000e+00,  1.4500000e+00,  1.4600000e+00,  1.4700000e+00,\n",
       "        1.4800000e+00,  1.4900000e+00,  1.5000000e+00,  1.5100000e+00,\n",
       "        1.5200000e+00,  1.5300000e+00,  1.5400000e+00,  1.5500000e+00,\n",
       "        1.5600000e+00,  1.5700000e+00,  1.5800000e+00,  1.5900000e+00,\n",
       "        1.6000000e+00,  1.6100000e+00,  1.6200000e+00,  1.6300000e+00,\n",
       "        1.6400000e+00,  1.6500000e+00,  1.6600000e+00,  1.6700000e+00,\n",
       "        1.6800000e+00,  1.6900000e+00,  1.7000000e+00,  1.7100000e+00,\n",
       "        1.7200000e+00,  1.7300000e+00,  1.7400000e+00,  1.7500000e+00,\n",
       "        1.7600000e+00,  1.7700000e+00,  1.7800000e+00,  1.7900000e+00,\n",
       "        1.8000000e+00,  1.8100000e+00,  1.8200000e+00,  1.8300000e+00,\n",
       "        1.8400000e+00,  1.8500000e+00,  1.8600000e+00,  1.8700000e+00,\n",
       "        1.8800000e+00,  1.8900000e+00,  1.9000000e+00,  1.9100000e+00,\n",
       "        1.9200000e+00,  1.9300000e+00,  1.9400000e+00,  1.9500000e+00,\n",
       "        1.9600000e+00,  1.9700000e+00,  1.9800000e+00,  1.9900000e+00,\n",
       "        2.0000000e+00,  2.0100000e+00,  2.0200000e+00,  2.0300000e+00,\n",
       "        2.0400000e+00,  2.0500000e+00,  2.0600000e+00,  2.0700000e+00,\n",
       "        2.0800000e+00,  2.0900000e+00,  2.1000000e+00,  2.1100000e+00,\n",
       "        2.1200000e+00,  2.1300000e+00,  2.1400000e+00,  2.1500000e+00,\n",
       "        2.1600000e+00,  2.1700000e+00,  2.1800000e+00,  2.1900000e+00,\n",
       "        2.2000000e+00,  2.2100000e+00,  2.2200000e+00,  2.2300000e+00,\n",
       "        2.2400000e+00,  2.2500000e+00,  2.2600000e+00,  2.2700000e+00,\n",
       "        2.2800000e+00,  2.2900000e+00,  2.3000000e+00,  2.3100000e+00,\n",
       "        2.3200000e+00,  2.3300000e+00,  2.3400000e+00,  2.3500000e+00,\n",
       "        2.3600000e+00,  2.3700000e+00,  2.3800000e+00,  2.3900000e+00,\n",
       "        2.4000000e+00,  2.4100000e+00,  2.4200000e+00,  2.4300000e+00,\n",
       "        2.4400000e+00,  2.4500000e+00,  2.4600000e+00,  2.4700000e+00,\n",
       "        2.4800000e+00,  2.4900000e+00,  2.5000000e+00,  2.5100000e+00,\n",
       "        2.5200000e+00,  2.5300000e+00,  2.5400000e+00,  2.5500000e+00,\n",
       "        2.5600000e+00,  2.5700000e+00,  2.5800000e+00,  2.5900000e+00,\n",
       "        2.6000000e+00,  2.6100000e+00,  2.6200000e+00,  2.6300000e+00,\n",
       "        2.6400000e+00,  2.6500000e+00,  2.6600000e+00,  2.6700000e+00,\n",
       "        2.6800000e+00,  2.6900000e+00,  2.7000000e+00,  2.7100000e+00,\n",
       "        2.7200000e+00,  2.7300000e+00,  2.7400000e+00,  2.7500000e+00,\n",
       "        2.7600000e+00,  2.7700000e+00,  2.7800000e+00,  2.7900000e+00,\n",
       "        2.8000000e+00,  2.8100000e+00,  2.8200000e+00,  2.8300000e+00,\n",
       "        2.8400000e+00,  2.8500000e+00,  2.8600000e+00,  2.8700000e+00,\n",
       "        2.8800000e+00,  2.8900000e+00,  2.9000000e+00,  2.9100000e+00,\n",
       "        2.9200000e+00,  2.9300000e+00,  2.9400000e+00,  2.9500000e+00,\n",
       "        2.9600000e+00,  2.9700000e+00,  2.9800000e+00,  2.9900000e+00,\n",
       "        3.0000000e+00,  3.0100000e+00,  3.0200000e+00,  3.0300000e+00,\n",
       "        3.0400000e+00,  3.0500000e+00,  3.0600000e+00,  3.0700000e+00,\n",
       "        3.0800000e+00,  3.0900000e+00,  3.1000000e+00,  3.1100000e+00,\n",
       "        3.1200000e+00,  3.1300000e+00,  3.1400000e+00,  3.1500000e+00,\n",
       "        3.1600000e+00,  3.1700000e+00,  3.1800000e+00,  3.1900000e+00,\n",
       "        3.2000000e+00,  3.2100000e+00,  3.2200000e+00,  3.2300000e+00,\n",
       "        3.2400000e+00,  3.2500000e+00,  3.2600000e+00,  3.2700000e+00,\n",
       "        3.2800000e+00,  3.2900000e+00,  3.3000000e+00,  3.3100000e+00,\n",
       "        3.3200000e+00,  3.3300000e+00,  3.3400000e+00,  3.3500000e+00,\n",
       "        3.3600000e+00,  3.3700000e+00,  3.3800000e+00,  3.3900000e+00,\n",
       "        3.4000000e+00,  3.4100000e+00,  3.4200000e+00,  3.4300000e+00,\n",
       "        3.4400000e+00,  3.4500000e+00,  3.4600000e+00,  3.4700000e+00,\n",
       "        3.4800000e+00,  3.4900000e+00,  3.5000000e+00,  3.5100000e+00,\n",
       "        3.5200000e+00,  3.5300000e+00,  3.5400000e+00,  3.5500000e+00,\n",
       "        3.5600000e+00,  3.5700000e+00,  3.5800000e+00,  3.5900000e+00,\n",
       "        3.6000000e+00,  3.6100000e+00,  3.6200000e+00,  3.6300000e+00,\n",
       "        3.6400000e+00,  3.6500000e+00,  3.6600000e+00,  3.6700000e+00,\n",
       "        3.6800000e+00,  3.6900000e+00,  3.7000000e+00,  3.7100000e+00,\n",
       "        3.7200000e+00,  3.7300000e+00,  3.7400000e+00,  3.7500000e+00,\n",
       "        3.7600000e+00,  3.7700000e+00,  3.7800000e+00,  3.7900000e+00,\n",
       "        3.8000000e+00,  3.8100000e+00,  3.8200000e+00,  3.8300000e+00,\n",
       "        3.8400000e+00,  3.8500000e+00,  3.8600000e+00,  3.8700000e+00,\n",
       "        3.8800000e+00,  3.8900000e+00,  3.9000000e+00,  3.9100000e+00,\n",
       "        3.9200000e+00,  3.9300000e+00,  3.9400000e+00,  3.9500000e+00,\n",
       "        3.9600000e+00,  3.9700000e+00,  3.9800000e+00,  3.9900000e+00,\n",
       "        4.0000000e+00,  4.0100000e+00,  4.0200000e+00,  4.0300000e+00,\n",
       "        4.0400000e+00,  4.0500000e+00,  4.0600000e+00,  4.0700000e+00,\n",
       "        4.0800000e+00,  4.0900000e+00,  4.1000000e+00,  4.1100000e+00,\n",
       "        4.1200000e+00,  4.1300000e+00,  4.1400000e+00,  4.1500000e+00,\n",
       "        4.1600000e+00,  4.1700000e+00,  4.1800000e+00,  4.1900000e+00,\n",
       "        4.2000000e+00,  4.2100000e+00,  4.2200000e+00,  4.2300000e+00,\n",
       "        4.2400000e+00,  4.2500000e+00,  4.2600000e+00,  4.2700000e+00,\n",
       "        4.2800000e+00,  4.2900000e+00,  4.3000000e+00,  4.3100000e+00,\n",
       "        4.3200000e+00,  4.3300000e+00,  4.3400000e+00,  4.3500000e+00,\n",
       "        4.3600000e+00,  4.3700000e+00,  4.3800000e+00,  4.3900000e+00,\n",
       "        4.4000000e+00,  4.4100000e+00,  4.4200000e+00,  4.4300000e+00,\n",
       "        4.4400000e+00,  4.4500000e+00,  4.4600000e+00,  4.4700000e+00,\n",
       "        4.4800000e+00,  4.4900000e+00,  4.5000000e+00,  4.5100000e+00,\n",
       "        4.5200000e+00,  4.5300000e+00,  4.5400000e+00,  4.5500000e+00,\n",
       "        4.5600000e+00,  4.5700000e+00,  4.5800000e+00,  4.5900000e+00,\n",
       "        4.6000000e+00,  4.6100000e+00,  4.6200000e+00,  4.6300000e+00,\n",
       "        4.6400000e+00,  4.6500000e+00,  4.6600000e+00,  4.6700000e+00,\n",
       "        4.6800000e+00,  4.6900000e+00,  4.7000000e+00,  4.7100000e+00,\n",
       "        4.7200000e+00,  4.7300000e+00,  4.7400000e+00,  4.7500000e+00,\n",
       "        4.7600000e+00,  4.7700000e+00,  4.7800000e+00,  4.7900000e+00,\n",
       "        4.8000000e+00,  4.8100000e+00,  4.8200000e+00,  4.8300000e+00,\n",
       "        4.8400000e+00,  4.8500000e+00,  4.8600000e+00,  4.8700000e+00,\n",
       "        4.8800000e+00,  4.8900000e+00,  4.9000000e+00,  4.9100000e+00,\n",
       "        4.9200000e+00,  4.9300000e+00,  4.9400000e+00,  4.9500000e+00,\n",
       "        4.9600000e+00,  4.9700000e+00,  4.9800000e+00,  4.9900000e+00])"
      ]
     },
     "execution_count": 21,
     "metadata": {},
     "output_type": "execute_result"
    }
   ],
   "source": [
    "# array oriented programming with arrays\n",
    "# Vectorization - Explicity designed to replace loops\n",
    "points = np.arange(-5,5,0.01)\n",
    "points"
   ]
  },
  {
   "cell_type": "code",
   "execution_count": 22,
   "id": "88836f52",
   "metadata": {},
   "outputs": [
    {
     "data": {
      "text/plain": [
       "1"
      ]
     },
     "execution_count": 22,
     "metadata": {},
     "output_type": "execute_result"
    }
   ],
   "source": [
    "points.ndim"
   ]
  },
  {
   "cell_type": "code",
   "execution_count": 27,
   "id": "3187ab17",
   "metadata": {},
   "outputs": [],
   "source": [
    "xs, ys = np.meshgrid(points, points)"
   ]
  },
  {
   "cell_type": "code",
   "execution_count": 28,
   "id": "2f446cbd",
   "metadata": {},
   "outputs": [
    {
     "data": {
      "text/plain": [
       "array([0, 3, 6])"
      ]
     },
     "execution_count": 28,
     "metadata": {},
     "output_type": "execute_result"
    }
   ],
   "source": [
    "np.arange(3)*3"
   ]
  },
  {
   "cell_type": "code",
   "execution_count": 29,
   "id": "ada94b86",
   "metadata": {},
   "outputs": [
    {
     "data": {
      "text/plain": [
       "array([0, 2, 4])"
      ]
     },
     "execution_count": 29,
     "metadata": {},
     "output_type": "execute_result"
    }
   ],
   "source": [
    "np.arange(3)*2"
   ]
  },
  {
   "cell_type": "code",
   "execution_count": null,
   "id": "ade15865",
   "metadata": {},
   "outputs": [],
   "source": []
  },
  {
   "cell_type": "code",
   "execution_count": 30,
   "id": "1d1af803",
   "metadata": {},
   "outputs": [
    {
     "data": {
      "text/plain": [
       "array([[-5.  , -4.99, -4.98, ...,  4.97,  4.98,  4.99],\n",
       "       [-5.  , -4.99, -4.98, ...,  4.97,  4.98,  4.99],\n",
       "       [-5.  , -4.99, -4.98, ...,  4.97,  4.98,  4.99],\n",
       "       ...,\n",
       "       [-5.  , -4.99, -4.98, ...,  4.97,  4.98,  4.99],\n",
       "       [-5.  , -4.99, -4.98, ...,  4.97,  4.98,  4.99],\n",
       "       [-5.  , -4.99, -4.98, ...,  4.97,  4.98,  4.99]])"
      ]
     },
     "execution_count": 30,
     "metadata": {},
     "output_type": "execute_result"
    }
   ],
   "source": [
    "xs"
   ]
  },
  {
   "cell_type": "code",
   "execution_count": 31,
   "id": "68ebcccf",
   "metadata": {},
   "outputs": [
    {
     "data": {
      "text/plain": [
       "array([[-5.  , -5.  , -5.  , ..., -5.  , -5.  , -5.  ],\n",
       "       [-4.99, -4.99, -4.99, ..., -4.99, -4.99, -4.99],\n",
       "       [-4.98, -4.98, -4.98, ..., -4.98, -4.98, -4.98],\n",
       "       ...,\n",
       "       [ 4.97,  4.97,  4.97, ...,  4.97,  4.97,  4.97],\n",
       "       [ 4.98,  4.98,  4.98, ...,  4.98,  4.98,  4.98],\n",
       "       [ 4.99,  4.99,  4.99, ...,  4.99,  4.99,  4.99]])"
      ]
     },
     "execution_count": 31,
     "metadata": {},
     "output_type": "execute_result"
    }
   ],
   "source": [
    "ys"
   ]
  },
  {
   "cell_type": "code",
   "execution_count": 32,
   "id": "c80f415e",
   "metadata": {},
   "outputs": [],
   "source": [
    "z = np.sqrt(xs ** 2 + ys ** 2)"
   ]
  },
  {
   "cell_type": "code",
   "execution_count": 33,
   "id": "c32cdcc0",
   "metadata": {},
   "outputs": [
    {
     "data": {
      "text/plain": [
       "array([[7.07106781, 7.06400028, 7.05693985, ..., 7.04988652, 7.05693985,\n",
       "        7.06400028],\n",
       "       [7.06400028, 7.05692568, 7.04985815, ..., 7.04279774, 7.04985815,\n",
       "        7.05692568],\n",
       "       [7.05693985, 7.04985815, 7.04278354, ..., 7.03571603, 7.04278354,\n",
       "        7.04985815],\n",
       "       ...,\n",
       "       [7.04988652, 7.04279774, 7.03571603, ..., 7.0286414 , 7.03571603,\n",
       "        7.04279774],\n",
       "       [7.05693985, 7.04985815, 7.04278354, ..., 7.03571603, 7.04278354,\n",
       "        7.04985815],\n",
       "       [7.06400028, 7.05692568, 7.04985815, ..., 7.04279774, 7.04985815,\n",
       "        7.05692568]])"
      ]
     },
     "execution_count": 33,
     "metadata": {},
     "output_type": "execute_result"
    }
   ],
   "source": [
    "z"
   ]
  },
  {
   "cell_type": "code",
   "execution_count": 3,
   "id": "393d2131",
   "metadata": {},
   "outputs": [],
   "source": [
    "import matplotlib.pyplot as plt"
   ]
  },
  {
   "cell_type": "code",
   "execution_count": 42,
   "id": "bca0ff37",
   "metadata": {},
   "outputs": [
    {
     "data": {
      "text/plain": [
       "Text(0.5, 1.0, 'The graph of $\\\\sqrt{x^2 + y^2}$ for grid of values')"
      ]
     },
     "execution_count": 42,
     "metadata": {},
     "output_type": "execute_result"
    },
    {
     "data": {
      "image/png": "[encoded data removed]",
      "text/plain": [
       "<Figure size 432x288 with 1 Axes>"
      ]
     },
     "metadata": {
      "needs_background": "light"
     },
     "output_type": "display_data"
    }
   ],
   "source": [
    "plt.imshow(z, cmap=plt.cm.gray)\n",
    "# plt.colorbar()\n",
    "plt.title(\"The graph of $\\sqrt{x^2 + y^2}$ for grid of values\")"
   ]
  },
  {
   "cell_type": "code",
   "execution_count": 43,
   "id": "0d25f484",
   "metadata": {},
   "outputs": [],
   "source": [
    "# Expressing Conditional Logic as Array Operations\n",
    "xarr = np.array([1.1, 1.2, 1.3, 1.4, 1.5])\n",
    "yarr = np.array([2.1, 2.2, 2.3, 2.4, 2.5])\n",
    "cond = np.array([True, False, True, True, False])"
   ]
  },
  {
   "cell_type": "code",
   "execution_count": 44,
   "id": "c8a8abcb",
   "metadata": {},
   "outputs": [
    {
     "data": {
      "text/plain": [
       "array([ True, False,  True,  True, False])"
      ]
     },
     "execution_count": 44,
     "metadata": {},
     "output_type": "execute_result"
    }
   ],
   "source": [
    "cond"
   ]
  },
  {
   "cell_type": "code",
   "execution_count": 50,
   "id": "5bd1787f",
   "metadata": {},
   "outputs": [],
   "source": [
    "result = [(x if c else y) for x, y, c in c]"
   ]
  },
  {
   "cell_type": "code",
   "execution_count": 51,
   "id": "1d19cf6f",
   "metadata": {},
   "outputs": [
    {
     "data": {
      "text/plain": [
       "[1.1, 2.2, 1.3, 1.4, 2.5]"
      ]
     },
     "execution_count": 51,
     "metadata": {},
     "output_type": "execute_result"
    }
   ],
   "source": [
    "result"
   ]
  },
  {
   "cell_type": "code",
   "execution_count": 52,
   "id": "27d82dd8",
   "metadata": {},
   "outputs": [],
   "source": [
    "result2 = []\n",
    "for x, y, c in zip(xarr, yarr, cond):\n",
    "    if c == True:\n",
    "        result2.append(x)\n",
    "    else:\n",
    "         result2.append(y)"
   ]
  },
  {
   "cell_type": "code",
   "execution_count": 53,
   "id": "8959d407",
   "metadata": {},
   "outputs": [
    {
     "data": {
      "text/plain": [
       "[1.1, 2.2, 1.3, 1.4, 2.5]"
      ]
     },
     "execution_count": 53,
     "metadata": {},
     "output_type": "execute_result"
    }
   ],
   "source": [
    "result2"
   ]
  },
  {
   "cell_type": "code",
   "execution_count": 55,
   "id": "e937989a",
   "metadata": {},
   "outputs": [],
   "source": [
    "result = np.where(cond, xarr, yarr)"
   ]
  },
  {
   "cell_type": "code",
   "execution_count": 56,
   "id": "06d97dc4",
   "metadata": {},
   "outputs": [
    {
     "data": {
      "text/plain": [
       "array([1.1, 2.2, 1.3, 1.4, 2.5])"
      ]
     },
     "execution_count": 56,
     "metadata": {},
     "output_type": "execute_result"
    }
   ],
   "source": [
    "result"
   ]
  },
  {
   "cell_type": "code",
   "execution_count": 74,
   "id": "13554643",
   "metadata": {},
   "outputs": [],
   "source": [
    "arr = np.empty((4,4))"
   ]
  },
  {
   "cell_type": "code",
   "execution_count": 76,
   "id": "2e35a94f",
   "metadata": {},
   "outputs": [
    {
     "data": {
      "text/plain": [
       "array([[0.398807  , 0.07308806, 0.58905735, 0.72556255],\n",
       "       [0.12992148, 0.15838651, 0.73938492, 0.44747297],\n",
       "       [0.86498436, 0.06343039, 0.70095741, 0.46896834],\n",
       "       [0.13181404, 0.50127067, 0.02626567, 0.89519377]])"
      ]
     },
     "execution_count": 76,
     "metadata": {},
     "output_type": "execute_result"
    }
   ],
   "source": [
    "arr"
   ]
  },
  {
   "cell_type": "code",
   "execution_count": 77,
   "id": "79610b41",
   "metadata": {},
   "outputs": [
    {
     "data": {
      "text/plain": [
       "array([[ True,  True,  True,  True],\n",
       "       [ True,  True,  True,  True],\n",
       "       [ True,  True,  True,  True],\n",
       "       [ True,  True,  True,  True]])"
      ]
     },
     "execution_count": 77,
     "metadata": {},
     "output_type": "execute_result"
    }
   ],
   "source": [
    "arr>0"
   ]
  },
  {
   "cell_type": "code",
   "execution_count": 78,
   "id": "d26ded56",
   "metadata": {},
   "outputs": [],
   "source": [
    "arr2 = np.where(arr>0, 2, -2)"
   ]
  },
  {
   "cell_type": "code",
   "execution_count": 79,
   "id": "6c734183",
   "metadata": {},
   "outputs": [
    {
     "data": {
      "text/plain": [
       "array([[2, 2, 2, 2],\n",
       "       [2, 2, 2, 2],\n",
       "       [2, 2, 2, 2],\n",
       "       [2, 2, 2, 2]])"
      ]
     },
     "execution_count": 79,
     "metadata": {},
     "output_type": "execute_result"
    }
   ],
   "source": [
    "arr2"
   ]
  },
  {
   "cell_type": "code",
   "execution_count": 82,
   "id": "74957a4b",
   "metadata": {},
   "outputs": [],
   "source": [
    "arr3 = np.array([[-0.5031, -0.6223, -0.9212, -0.7262], [ 0.2229, 0.0513, -1.1577, 0.8167], [ 0.4336, 1.0107, 1.8249, -0.9975], [ 0.8506, -0.1316, 0.9124, 0.1882]])"
   ]
  },
  {
   "cell_type": "code",
   "execution_count": 83,
   "id": "856383f1",
   "metadata": {},
   "outputs": [
    {
     "data": {
      "text/plain": [
       "array([[-0.5031, -0.6223, -0.9212, -0.7262],\n",
       "       [ 0.2229,  0.0513, -1.1577,  0.8167],\n",
       "       [ 0.4336,  1.0107,  1.8249, -0.9975],\n",
       "       [ 0.8506, -0.1316,  0.9124,  0.1882]])"
      ]
     },
     "execution_count": 83,
     "metadata": {},
     "output_type": "execute_result"
    }
   ],
   "source": [
    "arr3"
   ]
  },
  {
   "cell_type": "code",
   "execution_count": 84,
   "id": "8f7d3599",
   "metadata": {},
   "outputs": [],
   "source": [
    "arr4 = np.where(arr3>0, 2, -2)"
   ]
  },
  {
   "cell_type": "markdown",
   "id": "8d8512bd",
   "metadata": {},
   "source": [
    "#### "
   ]
  },
  {
   "cell_type": "code",
   "execution_count": 85,
   "id": "171f188f",
   "metadata": {},
   "outputs": [
    {
     "data": {
      "text/plain": [
       "array([[-2, -2, -2, -2],\n",
       "       [ 2,  2, -2,  2],\n",
       "       [ 2,  2,  2, -2],\n",
       "       [ 2, -2,  2,  2]])"
      ]
     },
     "execution_count": 85,
     "metadata": {},
     "output_type": "execute_result"
    }
   ],
   "source": [
    "arr4"
   ]
  },
  {
   "cell_type": "code",
   "execution_count": 86,
   "id": "1e1a29ca",
   "metadata": {},
   "outputs": [
    {
     "data": {
      "text/plain": [
       "array([[-0.5031, -0.6223, -0.9212, -0.7262],\n",
       "       [ 2.    ,  2.    , -1.1577,  2.    ],\n",
       "       [ 2.    ,  2.    ,  2.    , -0.9975],\n",
       "       [ 2.    , -0.1316,  2.    ,  2.    ]])"
      ]
     },
     "execution_count": 86,
     "metadata": {},
     "output_type": "execute_result"
    }
   ],
   "source": [
    "arr5 =np.where(arr3>0, 2, arr3)\n",
    "arr5"
   ]
  },
  {
   "cell_type": "code",
   "execution_count": 87,
   "id": "1e94e07d",
   "metadata": {},
   "outputs": [
    {
     "data": {
      "text/plain": [
       "array([[-1.00418205,  0.14325962,  0.2147689 , -0.52559202],\n",
       "       [ 2.30708509,  0.61700146,  0.2937197 , -0.69066243],\n",
       "       [ 0.07259437, -2.25789544, -0.52476742, -0.23934757],\n",
       "       [-0.01405945, -1.68559508, -1.56482775,  1.01578524],\n",
       "       [ 0.23893006, -0.45163966, -0.57171907, -0.24278855]])"
      ]
     },
     "execution_count": 87,
     "metadata": {},
     "output_type": "execute_result"
    }
   ],
   "source": [
    "#Mathematical and Statistical Methods\n",
    "arr = np.random.randn(5,4)\n",
    "arr"
   ]
  },
  {
   "cell_type": "code",
   "execution_count": 89,
   "id": "4944efb3",
   "metadata": {},
   "outputs": [
    {
     "data": {
      "text/plain": [
       "-0.24349660153547742"
      ]
     },
     "execution_count": 89,
     "metadata": {},
     "output_type": "execute_result"
    }
   ],
   "source": [
    "arr.mean()"
   ]
  },
  {
   "cell_type": "code",
   "execution_count": 90,
   "id": "8355338e",
   "metadata": {},
   "outputs": [
    {
     "data": {
      "text/plain": [
       "-0.24349660153547742"
      ]
     },
     "execution_count": 90,
     "metadata": {},
     "output_type": "execute_result"
    }
   ],
   "source": [
    "np.mean(arr)"
   ]
  },
  {
   "cell_type": "code",
   "execution_count": 91,
   "id": "af99a965",
   "metadata": {},
   "outputs": [
    {
     "data": {
      "text/plain": [
       "-4.869932030709548"
      ]
     },
     "execution_count": 91,
     "metadata": {},
     "output_type": "execute_result"
    }
   ],
   "source": [
    "arr.sum()"
   ]
  },
  {
   "cell_type": "code",
   "execution_count": 95,
   "id": "e3687917",
   "metadata": {},
   "outputs": [
    {
     "data": {
      "text/plain": [
       "-4.869932030709548"
      ]
     },
     "execution_count": 95,
     "metadata": {},
     "output_type": "execute_result"
    }
   ],
   "source": [
    "np.sum(arr)"
   ]
  },
  {
   "cell_type": "code",
   "execution_count": 104,
   "id": "379de86d",
   "metadata": {},
   "outputs": [
    {
     "data": {
      "text/plain": [
       "array([ 1.60036803, -3.63486909, -2.15282563, -0.68260533])"
      ]
     },
     "execution_count": 104,
     "metadata": {},
     "output_type": "execute_result"
    }
   ],
   "source": [
    "arr.sum(axis=0) # rows wise, as 0 = column wise, 1 = rows wise"
   ]
  },
  {
   "cell_type": "code",
   "execution_count": 103,
   "id": "9bc98ceb",
   "metadata": {},
   "outputs": [
    {
     "data": {
      "text/plain": [
       "-1.17174555"
      ]
     },
     "execution_count": 103,
     "metadata": {},
     "output_type": "execute_result"
    }
   ],
   "source": [
    "np.sum([-1.00418205,  0.14325962,  0.2147689 , -0.52559202])"
   ]
  },
  {
   "cell_type": "code",
   "execution_count": 109,
   "id": "c13b1197",
   "metadata": {},
   "outputs": [
    {
     "data": {
      "text/plain": [
       "array([-0.85763758,  1.43947943, -1.1611254 ,  0.1358614 , -0.87824356,\n",
       "        0.66259685,  0.51081902,  0.00861921,  0.0530455 , -0.17094037,\n",
       "        0.62970076, -0.58678724,  0.93794159, -0.47479567,  1.17289137,\n",
       "        0.25765284,  0.53268725, -0.31652589, -0.32660884,  1.97659228,\n",
       "        0.07730359, -1.15047744, -0.03692298, -2.09834938, -0.92589677,\n",
       "       -1.40934642, -0.38777777,  0.59066836, -0.51256064,  0.43771778,\n",
       "        1.84774197, -0.48852004, -2.05658069,  1.27778965,  0.83613413,\n",
       "        1.3042698 ,  0.16262802, -0.6385919 , -0.55163357, -0.21267662,\n",
       "       -0.24173789,  0.96546218,  1.91421606, -1.67200462,  0.60958565,\n",
       "       -0.78598941,  1.45595947,  0.31145195,  0.83406385, -1.24190566,\n",
       "       -1.60963556,  2.43347957,  2.38350362,  0.44771456, -1.6174018 ,\n",
       "        0.47453601,  1.33690667,  1.32999397, -0.35905749,  0.73637426,\n",
       "        0.62335944,  1.0271597 ,  0.47790281, -1.2890469 ,  1.94643426,\n",
       "       -0.64234855,  0.33740991,  0.93020083,  0.54059906,  0.04045042,\n",
       "        1.23091305, -0.0729814 ,  0.01820525, -0.12917632,  2.59568928,\n",
       "       -1.33591291, -1.65914395,  1.32337675, -0.84046527, -1.13754242,\n",
       "       -1.37739824, -1.74174334,  0.77273334,  0.62811712,  0.36493204,\n",
       "       -0.10845668,  0.52001365, -0.17089917, -0.8959445 , -1.2542618 ,\n",
       "        1.26053307, -0.39354554,  0.64590277, -0.03391768, -0.77811305,\n",
       "       -0.9776784 ,  0.182885  , -0.95924252,  0.53413144, -2.05607408])"
      ]
     },
     "execution_count": 109,
     "metadata": {},
     "output_type": "execute_result"
    }
   ],
   "source": [
    "#Methods for Boolean Arrays\n",
    "arr = np.random.randn(100)\n",
    "arr"
   ]
  },
  {
   "cell_type": "code",
   "execution_count": 112,
   "id": "aa59c9ca",
   "metadata": {},
   "outputs": [
    {
     "data": {
      "text/plain": [
       "53"
      ]
     },
     "execution_count": 112,
     "metadata": {},
     "output_type": "execute_result"
    }
   ],
   "source": [
    "#np.sum(arr>0)\n",
    "(arr>0).sum()"
   ]
  },
  {
   "cell_type": "code",
   "execution_count": 113,
   "id": "11ddb08e",
   "metadata": {},
   "outputs": [
    {
     "data": {
      "text/plain": [
       "True"
      ]
     },
     "execution_count": 113,
     "metadata": {},
     "output_type": "execute_result"
    }
   ],
   "source": [
    "## any() & all()\n",
    "bools = np.array([False, False, True, False])\n",
    "bools.any()"
   ]
  },
  {
   "cell_type": "code",
   "execution_count": 114,
   "id": "46ead028",
   "metadata": {},
   "outputs": [
    {
     "data": {
      "text/plain": [
       "False"
      ]
     },
     "execution_count": 114,
     "metadata": {},
     "output_type": "execute_result"
    }
   ],
   "source": [
    "bools.all()"
   ]
  },
  {
   "cell_type": "code",
   "execution_count": 116,
   "id": "8fcb55b8",
   "metadata": {},
   "outputs": [],
   "source": [
    "## sorting\n",
    "arr = np.random.randn(5,4)"
   ]
  },
  {
   "cell_type": "code",
   "execution_count": 117,
   "id": "84147d20",
   "metadata": {},
   "outputs": [
    {
     "data": {
      "text/plain": [
       "array([[-0.24928497, -1.13514209,  0.33725911, -0.27577133],\n",
       "       [ 0.94086883,  1.00665271, -0.9741058 ,  0.73336556],\n",
       "       [ 1.13689568,  0.25276255,  1.37664312,  0.16506223],\n",
       "       [ 1.05254916, -0.67525089, -0.83135387, -0.76637422],\n",
       "       [-0.39143171,  0.1905319 ,  1.68501024,  1.16820545]])"
      ]
     },
     "execution_count": 117,
     "metadata": {},
     "output_type": "execute_result"
    }
   ],
   "source": [
    "arr"
   ]
  },
  {
   "cell_type": "code",
   "execution_count": 118,
   "id": "71cfa6ac",
   "metadata": {},
   "outputs": [],
   "source": [
    "arr.sort()"
   ]
  },
  {
   "cell_type": "code",
   "execution_count": 119,
   "id": "6a6664bc",
   "metadata": {},
   "outputs": [
    {
     "data": {
      "text/plain": [
       "array([[-1.13514209, -0.27577133, -0.24928497,  0.33725911],\n",
       "       [-0.9741058 ,  0.73336556,  0.94086883,  1.00665271],\n",
       "       [ 0.16506223,  0.25276255,  1.13689568,  1.37664312],\n",
       "       [-0.83135387, -0.76637422, -0.67525089,  1.05254916],\n",
       "       [-0.39143171,  0.1905319 ,  1.16820545,  1.68501024]])"
      ]
     },
     "execution_count": 119,
     "metadata": {},
     "output_type": "execute_result"
    }
   ],
   "source": [
    "arr"
   ]
  },
  {
   "cell_type": "code",
   "execution_count": 4,
   "id": "47fde540",
   "metadata": {},
   "outputs": [
    {
     "data": {
      "text/plain": [
       "array([-9.95752654e-01,  1.02215361e-01, -8.96646320e-01,  3.57411048e-01,\n",
       "       -8.78757521e-01,  3.79275034e-02, -1.36625157e-01, -2.21254144e-01,\n",
       "        3.14163919e-01, -1.38026958e-01, -7.32481806e-01,  1.23082673e+00,\n",
       "        4.86329836e-01, -1.29520012e+00,  7.29832407e-01,  8.41930547e-01,\n",
       "        3.97965961e-01,  4.26523174e-01, -8.36396684e-01, -6.56349347e-01,\n",
       "        7.11678518e-01,  5.68764132e-01, -1.17766172e-01, -9.50537454e-01,\n",
       "       -3.47121491e-01, -2.38917735e-01,  9.07066998e-02,  4.27120974e-01,\n",
       "       -6.68327461e-01,  4.40992591e-01, -5.69510371e-01,  1.90860383e+00,\n",
       "        6.72382244e-01, -1.76199117e+00,  6.89563968e-01,  5.68992276e-01,\n",
       "        7.34144894e-01, -1.99206009e+00, -4.88583907e-01, -9.62002137e-01,\n",
       "        1.72484493e+00, -9.75239669e-01, -2.66174247e-01,  5.53715984e-01,\n",
       "        3.66537642e-01, -5.49826011e-01, -4.22555672e-01,  9.55248878e-01,\n",
       "        1.27942352e+00, -2.26211107e-01,  2.08498522e+00,  1.14957905e+00,\n",
       "       -1.19781418e+00, -7.90793328e-01,  3.77083615e-01, -9.51313243e-01,\n",
       "        1.05281934e+00, -2.54676100e-01, -3.38757287e-01,  7.78918222e-01,\n",
       "       -1.52850225e+00, -6.40134601e-02,  1.29898771e+00,  3.65454202e-01,\n",
       "       -2.22771699e-01, -1.58200881e+00, -1.49644911e-01, -1.64641496e-01,\n",
       "        1.29194852e+00,  2.58144946e-01,  5.37097388e-01,  6.05912214e-01,\n",
       "        6.34282353e-01, -1.07315925e+00,  3.62540169e-01, -1.71385086e+00,\n",
       "       -9.56736802e-01,  1.54380551e+00, -7.82195225e-01, -5.84951048e-01,\n",
       "        3.88862271e-01, -5.24452711e-01, -3.45622250e-01, -2.10811570e-01,\n",
       "       -1.26000453e-01, -2.46992268e-01,  8.08117467e-01, -2.06080458e+00,\n",
       "        3.68343604e-01,  4.79063344e-02,  6.46634256e-01, -1.02183956e+00,\n",
       "       -1.62114324e+00,  9.65393722e-02, -4.51627000e-01, -1.28655846e-01,\n",
       "        1.94926569e+00,  1.56869846e+00,  1.66380269e+00, -2.13250674e-01,\n",
       "        9.13826169e-02,  6.43355769e-01,  1.58029870e-01,  1.12688597e-01,\n",
       "       -1.48878865e+00, -1.63861927e+00,  8.47411372e-02,  1.12815475e+00,\n",
       "        3.32028505e-02,  1.71618297e+00,  1.03724482e+00, -9.86452090e-01,\n",
       "        6.89460471e-01,  1.78342871e+00, -9.19168921e-01, -1.13584457e+00,\n",
       "       -1.17786822e+00, -2.10142157e+00,  1.02077607e+00, -1.98511921e-01,\n",
       "       -1.08534908e+00,  6.74713638e-01, -1.22996698e+00,  2.00062903e-01,\n",
       "        1.03305079e+00,  1.19889071e+00,  4.30668412e-01, -1.79969823e+00,\n",
       "        8.90360303e-01, -1.62924373e+00,  3.59324318e-01,  1.19533570e+00,\n",
       "       -3.56706993e-01, -6.59742963e-02, -7.84903348e-01, -2.49366623e+00,\n",
       "        5.02589848e-01,  5.04057026e-01,  1.21522350e-01, -1.42885722e+00,\n",
       "       -6.20439424e-01,  1.80677495e-01,  1.35340069e+00, -9.45067366e-02,\n",
       "       -9.32406821e-01, -1.34188860e+00,  6.90016422e-01,  1.67605031e+00,\n",
       "        1.45540876e+00,  1.42710466e-01,  1.39672085e-01,  2.00988067e-01,\n",
       "       -1.49592619e+00, -4.47715568e-01,  2.78454089e-01, -7.57231197e-03,\n",
       "        1.56409041e+00, -1.08578649e+00,  3.02451131e-01, -5.18632205e-01,\n",
       "        5.78762027e-01, -1.29129866e-01,  9.55811964e-01, -6.31906164e-01,\n",
       "       -1.45530820e+00, -5.39305763e-02, -6.52552133e-01,  3.18480038e-01,\n",
       "       -1.98233716e-01,  6.85498372e-01, -1.21535662e+00, -1.66052964e+00,\n",
       "        2.05985198e-01, -1.80436010e+00,  4.16332108e-01,  1.00286643e+00,\n",
       "        5.76650793e-01, -3.30414641e+00,  4.36281597e-01,  9.25807786e-01,\n",
       "       -2.72130017e-01,  3.82821221e-01,  2.08787358e+00, -1.03803441e+00,\n",
       "       -1.05098098e+00, -1.05176810e-01, -8.50759516e-01, -1.42782836e-01,\n",
       "       -7.98240483e-01, -1.18258061e+00, -1.42607626e+00, -3.42222813e-01,\n",
       "       -5.55355722e-01,  1.14301234e+00, -9.93700272e-01,  4.93952160e-01,\n",
       "        7.89710392e-01, -9.79966612e-01, -2.13436772e-01, -3.63313082e-01,\n",
       "       -8.29549171e-01,  1.30758398e+00, -5.92215724e-01, -2.07137087e-01,\n",
       "       -1.08416324e-02,  3.00747533e-01, -1.22971676e+00, -9.07002100e-01,\n",
       "        2.73708844e-02,  3.74594299e-01,  1.21035481e+00,  1.68024085e+00,\n",
       "       -3.88179430e-01, -3.77797339e-01, -1.05514869e+00,  9.70843070e-01,\n",
       "        9.20184808e-01,  7.77261832e-01,  8.44223545e-02,  1.19194442e+00,\n",
       "       -2.07306390e-01, -1.03368237e+00,  2.09157430e+00, -6.90183287e-01,\n",
       "       -1.39172664e-01, -1.51556501e+00,  1.73065259e-01,  1.23502257e+00,\n",
       "       -1.51984269e+00, -1.10635994e+00,  1.69591251e+00,  1.11421095e+00,\n",
       "       -1.17463830e+00, -7.38653957e-01,  9.23096571e-01,  7.49890495e-01,\n",
       "        6.42116306e-02, -1.25090403e+00, -7.46231026e-02,  3.76754791e-01,\n",
       "        9.83059906e-01, -9.27239071e-01,  1.26604765e+00,  2.63547966e-01,\n",
       "        1.91067839e-01, -6.96026436e-01, -1.05693765e+00,  1.11568795e+00,\n",
       "        1.15900543e+00, -1.29157099e+00,  5.19674371e-01,  6.03515114e-01,\n",
       "        6.83645667e-01,  6.72757273e-01,  7.39981459e-01,  6.45730898e-01,\n",
       "       -1.52610191e+00,  1.33144074e+00, -7.36582888e-01,  1.05379543e+00,\n",
       "       -1.17540205e+00,  3.86920038e-01,  2.07751157e+00,  5.32145621e-01,\n",
       "       -6.34306892e-01, -4.76384560e-01,  1.45724344e-01, -4.54727359e-01,\n",
       "        1.68692062e+00,  9.17841353e-01,  2.14459692e+00,  1.47696795e-01,\n",
       "       -8.71304825e-01, -1.56120684e-01, -2.81453674e-01, -1.61228406e-01,\n",
       "       -1.05688304e+00, -1.11194300e+00,  8.60020961e-01,  8.40070963e-01,\n",
       "       -9.19611142e-01,  4.64709878e-01, -7.86146630e-01,  1.00287819e+00,\n",
       "        1.38766843e+00,  2.67730334e+00,  1.26390665e-01, -4.99827825e-01,\n",
       "        1.77257341e-01, -9.09888508e-02,  7.71498568e-01,  2.02872579e+00,\n",
       "        9.11156218e-02,  1.67782085e+00, -2.02746208e+00,  8.56210014e-01,\n",
       "        5.06311195e-02, -5.95469850e-01, -4.67125601e-01, -3.44439297e-01,\n",
       "       -1.45642057e+00,  1.57688642e+00, -1.15229442e+00,  1.13954303e+00,\n",
       "       -1.15616555e+00, -2.84850293e-01,  7.14597593e-02,  2.27325618e-01,\n",
       "       -1.59068736e+00, -1.35872418e-01, -2.17421357e+00,  2.59949187e-01,\n",
       "        6.18794323e-01, -4.58992369e-01, -2.21771596e-01, -9.91759694e-01,\n",
       "        8.07173790e-01, -1.32209250e+00,  1.12272819e+00, -1.44604013e+00,\n",
       "        1.72468029e-01,  1.70956362e+00, -1.72281621e+00,  2.52688049e-01,\n",
       "       -6.43396159e-01, -5.73186090e-02,  6.82001972e-02, -1.39306040e+00,\n",
       "        4.63163546e-01,  7.48877371e-01,  1.51630665e+00, -3.61151175e-01,\n",
       "       -2.25658356e+00, -4.29881011e-02, -1.32107376e+00, -6.38189647e-01,\n",
       "        1.68552682e+00, -7.47018152e-01, -8.11152294e-01, -8.36281967e-01,\n",
       "       -6.94419597e-01, -1.09478804e+00,  6.77751339e-02,  9.28042142e-01,\n",
       "       -1.73993767e+00,  1.97191853e-01,  1.83491474e-01,  2.77003472e-03,\n",
       "        1.47237976e-01, -7.80513594e-01, -5.37563353e-01, -6.20916187e-01,\n",
       "       -4.61107239e-01,  1.35386513e+00,  8.33333587e-01, -4.17757772e-01,\n",
       "        6.99172890e-01, -4.86599846e-01, -1.15389967e-01, -9.48803265e-02,\n",
       "       -1.34450515e+00, -1.52821363e+00,  9.15762155e-01, -1.64175159e+00,\n",
       "       -7.45262920e-01,  1.21063080e-01, -5.07393061e-01,  1.96840774e+00,\n",
       "       -7.57959961e-02, -2.57407133e+00,  4.48283064e-01,  1.73403274e+00,\n",
       "        1.20120699e+00,  7.13973237e-01, -8.07667440e-02, -8.17633626e-01,\n",
       "       -2.51534194e-01,  8.16347923e-01,  7.00274457e-01,  3.77559985e-01,\n",
       "        8.10159983e-01,  8.72858604e-01, -4.29755066e-01, -1.10472045e+00,\n",
       "        2.21607857e-01,  1.93895568e+00,  4.21031936e-01, -2.16363809e+00,\n",
       "        1.07619716e+00,  1.06757072e+00, -7.75800529e-01, -9.81941861e-01,\n",
       "        2.26666093e-01,  1.14441521e+00, -8.61327472e-02,  6.46983069e-01,\n",
       "        1.91023666e-01,  1.11094817e+00,  1.90747022e+00, -2.47260144e-01,\n",
       "        9.04514641e-01,  4.49496373e-02,  4.16069759e-01,  7.26291994e-01,\n",
       "       -5.11858322e-01, -1.19774296e+00,  8.83264179e-01, -8.52136027e-01,\n",
       "        1.11833228e+00, -1.99404842e+00,  8.32866488e-01, -1.44934133e-01,\n",
       "       -9.12671341e-01,  9.35885888e-01,  5.31577868e-02, -3.56465529e-01,\n",
       "       -1.32041667e+00,  1.13170573e+00,  1.55348536e+00, -1.94932027e+00,\n",
       "        1.09806052e+00, -1.42882004e-01, -1.75959480e+00,  1.21846473e+00,\n",
       "        6.05326592e-01, -2.15210717e+00,  1.91882827e+00, -1.26167808e+00,\n",
       "        4.29722297e-02,  4.75703929e-01, -6.12342080e-01,  4.60336502e-01,\n",
       "        7.64149560e-01, -1.29794615e+00,  8.88888785e-01, -1.55624381e+00,\n",
       "        5.82131032e-01,  4.60115758e-01, -8.95361631e-01, -1.47398862e+00,\n",
       "       -1.81432271e+00,  7.83028685e-01, -5.56053735e-01, -1.82002828e+00,\n",
       "        3.79620241e-01, -3.78140209e-01, -1.32547859e+00, -1.68933313e-01,\n",
       "        8.82164440e-03,  5.27411426e-01,  1.28692373e+00,  5.01764878e-01,\n",
       "        1.41294032e+00, -4.99289832e-01,  1.29484564e-01, -1.10251182e+00,\n",
       "       -4.39065915e-01,  1.02626892e-01, -1.31074151e+00,  1.02400396e+00,\n",
       "       -9.32963205e-01, -6.66740015e-01,  1.43085512e-01,  1.10487215e+00,\n",
       "        2.23980691e-01, -9.61794702e-01, -5.56473725e-01,  5.38367201e-01,\n",
       "        1.11263020e+00,  2.99601686e-01,  1.33156812e+00,  5.48529318e-01,\n",
       "        1.51453579e+00,  6.74707503e-01,  4.32886470e-01,  3.86998786e-01,\n",
       "       -8.17617724e-01,  9.05744990e-01,  3.73361963e-01, -1.71819394e-01,\n",
       "       -6.55357932e-01,  2.14229817e+00, -8.06975723e-01,  3.40298037e-01,\n",
       "        6.86316781e-02,  1.34741347e+00,  5.16389874e-01,  1.23061513e+00,\n",
       "       -6.82101026e-01,  1.40040564e+00, -4.71577960e-01,  4.79568995e-01,\n",
       "       -8.66117237e-01, -4.16278427e-01,  3.31438095e-01, -9.38528074e-01,\n",
       "        6.56461569e-01,  2.47167856e-01, -1.09998133e+00, -1.98597607e-01,\n",
       "       -6.01710734e-02,  1.55425359e+00,  9.29966987e-01,  1.49381916e+00,\n",
       "        1.54962696e+00, -8.79923274e-01, -1.87381690e+00, -6.45636247e-01,\n",
       "       -1.93642733e-01, -1.54540878e-01, -5.00750364e-02, -4.34638966e-01,\n",
       "        5.56588935e-01, -3.17342171e-01,  3.14489180e-02, -1.04443150e+00,\n",
       "        9.04205941e-01,  1.19171125e-01, -5.23635537e-02, -2.91226090e+00,\n",
       "        2.33821629e-02,  1.82785466e+00, -9.87233945e-01, -1.10312632e-01,\n",
       "        3.23838550e-01,  1.70758810e+00, -7.84070663e-01, -6.31096516e-01,\n",
       "        6.19150357e-01, -2.83011348e+00, -3.56453562e-03,  1.57899831e-01,\n",
       "        1.22853421e+00,  1.89740555e+00, -2.10390870e-01, -3.57619753e-01,\n",
       "        2.31812715e-02, -1.73206858e+00, -1.02046448e+00, -2.47362742e+00,\n",
       "        9.59320451e-01, -1.36954642e+00, -3.46029282e-01, -4.49738690e-01,\n",
       "       -9.56491372e-02, -2.07266485e+00, -1.04617253e-01,  2.60392621e+00,\n",
       "       -1.78008013e+00,  6.81044920e-01,  1.11404183e+00, -7.53689560e-01,\n",
       "       -2.12760120e+00, -1.01564377e+00,  3.44412204e-01,  2.79589628e-02,\n",
       "        1.62246072e-01,  2.87554644e+00,  5.04268762e-02, -1.18159048e+00,\n",
       "        4.05647715e-01, -1.25956163e+00, -1.66136758e-01,  4.52179659e-01,\n",
       "       -3.35427125e-01, -6.55645140e-01, -2.13083214e-02,  1.04617347e+00,\n",
       "        3.17818138e-01, -7.04501928e-01,  6.94104353e-01, -9.98059267e-01,\n",
       "        1.91984024e+00,  8.39234710e-01,  5.90000876e-01,  6.27904292e-01,\n",
       "       -7.01950206e-01,  1.19930655e+00, -5.47077034e-01, -1.40129176e-02,\n",
       "        4.06516209e-01,  1.42110076e+00, -2.06745545e+00, -3.87828032e-01,\n",
       "        1.14490080e+00, -5.59203083e-01,  9.25875157e-01, -9.50066048e-01,\n",
       "        4.46557388e-01, -7.74320229e-01,  2.05402688e+00,  2.01209644e+00,\n",
       "        8.61575769e-01,  1.17149808e-01,  1.49921360e+00,  1.69762950e-01,\n",
       "       -3.99780170e-01, -1.31884488e+00, -9.23804562e-01,  7.62181399e-01,\n",
       "        1.25234850e+00, -5.34452102e-01,  2.29090831e+00, -1.07280858e+00,\n",
       "       -6.77327512e-01, -1.49815122e-01,  7.41767959e-02,  1.33675406e+00,\n",
       "       -1.10904437e+00,  1.35335859e+00,  2.25644117e+00, -6.77177852e-01,\n",
       "        5.68974187e-01, -1.20296650e+00,  5.91587397e-01,  8.14826585e-01,\n",
       "        2.62630634e-01, -5.74411847e-01,  1.14261009e+00,  5.25347308e-01,\n",
       "        6.65778210e-01, -1.31504117e+00,  1.14466356e+00, -9.29705207e-02,\n",
       "       -2.47241215e+00, -4.65468943e-01,  8.78564482e-01, -1.29827137e+00,\n",
       "        5.35025289e-01,  4.05339488e-02,  1.30255085e-01, -1.54650840e-01,\n",
       "        3.23539449e-01,  2.15048689e-01, -2.12355413e-01, -3.28175243e-01,\n",
       "        3.95186640e-01, -1.77913634e+00,  1.39728535e+00, -7.41771745e-01,\n",
       "       -5.55008014e-01,  6.27872985e-01, -1.43313207e+00,  1.32636338e+00,\n",
       "       -1.19509581e+00,  1.35355541e+00, -1.07788959e+00,  4.93942580e-01,\n",
       "        7.69159428e-01,  2.61481100e-01,  2.66045438e+00, -4.83992517e-01,\n",
       "       -4.66307352e-02, -1.36987395e+00, -8.72742396e-01, -8.72740281e-01,\n",
       "       -4.80036708e-01, -4.46383754e-01, -1.03834781e+00,  6.62175310e-01,\n",
       "        2.58329733e-01, -1.70189321e+00, -8.66536127e-01,  1.73125328e-01,\n",
       "       -4.25307633e-01, -9.16745121e-01, -4.09232426e-01, -4.66989563e-01,\n",
       "       -5.34915227e-01, -4.79420087e-01, -1.94291629e+00,  8.02644819e-01,\n",
       "       -2.02992880e-02,  1.42776765e+00, -4.95757389e-01, -1.40954224e+00,\n",
       "       -1.07222906e-01,  4.47456711e-01,  1.52589193e+00, -1.25543428e+00,\n",
       "       -5.42518594e-01, -2.48836842e+00, -6.22524713e-01, -1.42370059e+00,\n",
       "       -2.15478358e+00, -3.38055572e-01,  1.06139728e+00, -1.93611645e-01,\n",
       "        9.06754282e-01, -1.22880288e+00,  1.94377621e+00, -1.94605904e+00,\n",
       "       -2.66248617e-03,  1.09706388e+00, -1.25228449e-02,  3.81988460e+00,\n",
       "        2.86157719e-01,  1.85697541e+00,  9.49583667e-01,  1.84060005e+00,\n",
       "       -1.03810231e-01,  1.10092416e+00,  1.85730741e-01,  1.40960228e-01,\n",
       "       -2.77451614e-01, -5.41364908e-01,  1.92316345e+00,  2.90422645e-01,\n",
       "        7.41377838e-01,  6.53193679e-01, -1.17071855e+00,  3.10119695e-01,\n",
       "       -1.93335096e-01,  6.45711071e-01, -3.78948690e-01,  7.23238500e-01,\n",
       "       -1.89810937e+00,  1.10642447e-01, -7.98428831e-01,  3.28820250e-01,\n",
       "        4.47189271e-01, -6.15256720e-02, -7.25770067e-01,  3.27331557e-01,\n",
       "       -5.06199143e-01, -1.82851195e-01, -8.73472245e-01,  1.24725374e-01,\n",
       "        1.93150600e-01, -1.73331508e+00,  7.08722643e-01,  2.70939293e-01,\n",
       "        2.09118762e+00,  2.00091423e+00,  3.97810761e-01, -9.49586195e-01,\n",
       "        1.10352498e+00, -4.01577202e-02,  2.17918050e+00, -5.50775328e-01,\n",
       "       -2.38108380e-01, -6.36389650e-01,  7.55400522e-01, -1.65581334e-01,\n",
       "        4.76166691e-01,  8.53609833e-01,  5.21597442e-01,  2.97467792e-01,\n",
       "       -9.00021493e-02,  9.93417889e-01,  3.32902818e-01,  2.63699203e+00,\n",
       "       -1.53408016e+00, -4.67387488e-01,  3.67267165e-01, -1.79588285e+00,\n",
       "       -9.62653086e-01, -9.95180075e-01,  1.03777204e+00, -5.70294990e-01,\n",
       "        3.90548042e-01,  1.01366276e+00, -2.79224948e-01,  1.48074867e+00,\n",
       "        1.30223097e-01, -1.39349629e+00,  1.22788854e+00, -2.00835862e-01,\n",
       "        1.39995943e-01, -6.67036260e-01, -8.22740693e-01,  1.15567116e-01,\n",
       "       -5.87067783e-01, -1.52453482e+00,  6.88212454e-01, -8.92017126e-01,\n",
       "        5.03084665e-01,  8.18181677e-01, -2.03605520e-01,  2.09184029e+00,\n",
       "       -5.20310817e-01, -4.29282585e-01,  2.47921852e-01,  8.98150856e-01,\n",
       "       -2.55855853e+00,  1.04700290e+00,  5.10975482e-01, -1.84128862e+00,\n",
       "        1.39233731e-01,  4.23021670e-01,  2.39723507e-01,  9.94278710e-01,\n",
       "       -3.58400181e-01, -4.96181629e-02, -1.83526583e-01,  9.71484059e-01,\n",
       "        6.58368304e-01,  5.47373121e-02,  8.74024226e-01,  3.88155914e-01,\n",
       "        1.61603820e+00, -2.99550581e-01,  1.69499685e+00, -1.86388615e+00,\n",
       "       -7.69244841e-01,  7.40968849e-01, -9.84005177e-01,  2.30483391e-01,\n",
       "       -4.69796218e-01, -8.21072002e-01, -9.78009007e-01,  1.16884105e+00,\n",
       "       -6.68473465e-02, -8.94764353e-01,  1.64345083e+00,  3.34682190e+00,\n",
       "        7.01186212e-01,  7.24847180e-02, -4.13866373e-01,  2.31350138e-01,\n",
       "        1.29803975e+00, -5.59878771e-01, -4.38503618e-01,  9.48523153e-01,\n",
       "        5.50218714e-01, -8.39605562e-01,  1.50876093e+00, -1.34303039e+00,\n",
       "       -2.29992345e-02, -1.33136030e+00, -6.02731585e-01, -1.18080156e+00,\n",
       "       -9.28354021e-01, -2.19353862e+00, -4.93575823e-01,  9.57183829e-03,\n",
       "       -7.72467905e-01, -6.89659945e-01,  1.56826227e+00, -8.58165674e-01,\n",
       "       -1.73464425e+00,  1.18516177e+00, -9.73988321e-01, -1.88370401e-01,\n",
       "        1.00030979e+00,  2.88808186e+00,  6.97997136e-01, -1.79036637e+00,\n",
       "        1.93773365e+00,  3.61552759e-01, -6.44697148e-01, -2.59797576e-01,\n",
       "       -7.36308410e-01,  7.42536142e-01,  4.76344032e-01,  9.19418364e-01,\n",
       "        9.05022375e-01, -2.28254876e+00, -1.83742947e-01, -6.10861832e-01,\n",
       "        2.29833659e-01,  4.48192681e-01,  9.64201011e-01,  1.34598500e+00,\n",
       "       -7.22481647e-01,  9.37064804e-01, -5.90037142e-02,  6.72819525e-02,\n",
       "       -3.14830967e-01, -9.64839167e-01,  1.07994794e+00, -1.39555356e+00,\n",
       "       -8.92405596e-01, -1.14492714e+00,  2.19869050e+00, -6.30460209e-01,\n",
       "        6.85627722e-01, -9.55708407e-01, -4.25048538e-01, -2.32996152e-01,\n",
       "       -5.52387724e-01,  3.22802982e-01,  2.17232038e-01,  1.06557059e+00,\n",
       "        6.41372967e-01,  1.82723393e-01, -1.68210071e+00,  3.65889941e-01,\n",
       "        6.50006380e-01, -2.22575220e-01,  7.50096167e-01,  1.17713234e+00,\n",
       "       -4.82312996e-01,  9.05973590e-02, -3.95469423e-01,  9.23135443e-01,\n",
       "        3.43089867e-01,  2.95639311e-01, -4.40501144e-01, -1.15339098e-01,\n",
       "        1.16891108e-01,  1.20627307e-01,  1.92265579e+00,  4.37505023e-01,\n",
       "        7.23710173e-01, -7.00057987e-01, -1.18527359e+00,  5.47448233e-01,\n",
       "       -5.05716263e-01,  7.13271888e-01, -1.04088329e+00, -2.17227723e-01,\n",
       "       -6.88352955e-01,  1.07758273e-01, -3.29736512e-01, -1.49522899e+00,\n",
       "       -2.46611731e+00,  4.88518315e-01,  8.23837877e-01,  6.37936336e-01,\n",
       "       -2.43730904e-02,  1.59135954e+00, -2.46493661e-01,  9.54695527e-01,\n",
       "        1.83371966e+00,  3.66110834e-01, -5.02733781e-01, -5.32804833e-01,\n",
       "       -1.30107708e+00,  1.74016862e+00, -1.03420912e-01, -2.46822572e-01,\n",
       "       -4.32585645e-01, -2.73356839e-02, -5.74257008e-01,  3.49648172e-01,\n",
       "        7.91497496e-01, -9.07269829e-01,  1.06879755e+00,  7.02514819e-01,\n",
       "        4.27609076e-01,  1.56662461e+00,  6.86394368e-01, -2.27462488e+00,\n",
       "        8.24761151e-01, -4.14714855e-01,  1.71658425e+00,  5.17888746e-01,\n",
       "        1.69847934e+00,  2.01693230e-01, -3.59403937e-01,  9.40300312e-01,\n",
       "        2.66843314e+00, -9.22780124e-01,  6.44310608e-01, -4.16817463e-01,\n",
       "        1.12060000e+00, -1.49973743e+00,  1.98997880e-01,  1.63369987e-01,\n",
       "        6.43881131e-01,  5.91113821e-01, -9.73440267e-01, -5.87456047e-01,\n",
       "       -1.25710540e+00,  2.10276337e+00, -1.65875953e+00,  2.25134849e-01,\n",
       "       -8.19228256e-01,  2.06025701e+00,  6.18474794e-01, -1.11205121e+00,\n",
       "       -7.90352482e-01,  5.51309794e-01,  2.11045944e-02,  3.44770026e-01,\n",
       "        2.94176760e-01,  2.60059445e+00,  8.86184784e-01, -1.60277095e-01,\n",
       "        3.64105258e-01, -7.56511572e-01, -5.81305605e-01,  1.11996108e-01,\n",
       "       -3.14530545e-01,  1.21322704e+00,  1.37635783e+00,  3.49285523e-01,\n",
       "        3.21885314e-01,  9.50180673e-01, -3.59256893e-01, -4.64374815e-02,\n",
       "       -2.73812486e-01,  6.89072314e-02,  1.30055102e+00, -3.13111181e-01,\n",
       "       -1.95739862e-01,  5.43981958e-01,  4.70547737e-01,  2.47762684e+00])"
      ]
     },
     "execution_count": 4,
     "metadata": {},
     "output_type": "execute_result"
    }
   ],
   "source": [
    "# a quick way to compute the quantile and selects the value at a particular rank\n",
    "larg_arr = np.random.randn(1000)\n",
    "larg_arr"
   ]
  },
  {
   "cell_type": "code",
   "execution_count": 5,
   "id": "ee1ec062",
   "metadata": {},
   "outputs": [],
   "source": [
    "larg_arr.sort()"
   ]
  },
  {
   "cell_type": "code",
   "execution_count": 7,
   "id": "4c73313d",
   "metadata": {},
   "outputs": [
    {
     "data": {
      "text/plain": [
       "-1.6821007052580659"
      ]
     },
     "execution_count": 7,
     "metadata": {},
     "output_type": "execute_result"
    }
   ],
   "source": [
    "larg_arr[int(0.05 * len(larg_arr))]"
   ]
  },
  {
   "cell_type": "code",
   "execution_count": 34,
   "id": "41bc286b",
   "metadata": {},
   "outputs": [],
   "source": [
    "# Unique and Other Set Logic\n",
    "# to find the unique values in an array\n",
    "names = np.array(['Bob', 'Joe', 'Will', 'Bob', 'Will', 'Joe', 'Joe'])\n",
    "names[names == \"Bob\"] = 'Adil'\n",
    "names[names==\"Joe\"] = \"Qaiser\"\n",
    "names[names=='Will'] = \"Muj\""
   ]
  },
  {
   "cell_type": "code",
   "execution_count": 35,
   "id": "ecf78485",
   "metadata": {},
   "outputs": [
    {
     "data": {
      "text/plain": [
       "array(['Adil', 'Qais', 'Muj', 'Adil', 'Muj', 'Qais', 'Qais'], dtype='<U4')"
      ]
     },
     "execution_count": 35,
     "metadata": {},
     "output_type": "execute_result"
    }
   ],
   "source": [
    "names"
   ]
  },
  {
   "cell_type": "code",
   "execution_count": 36,
   "id": "2bf60e16",
   "metadata": {},
   "outputs": [
    {
     "data": {
      "text/plain": [
       "array(['Adil', 'Muj', 'Qais'], dtype='<U4')"
      ]
     },
     "execution_count": 36,
     "metadata": {},
     "output_type": "execute_result"
    }
   ],
   "source": [
    "np.unique(names)"
   ]
  },
  {
   "cell_type": "code",
   "execution_count": 37,
   "id": "a3e90bfa",
   "metadata": {},
   "outputs": [
    {
     "data": {
      "text/plain": [
       "array([1, 2, 3, 4])"
      ]
     },
     "execution_count": 37,
     "metadata": {},
     "output_type": "execute_result"
    }
   ],
   "source": [
    "ints = np.array([3, 3, 3, 2, 2, 1, 1, 4, 4])\n",
    "np.unique(ints)"
   ]
  },
  {
   "cell_type": "code",
   "execution_count": 38,
   "id": "ab1555d4",
   "metadata": {},
   "outputs": [
    {
     "data": {
      "text/plain": [
       "['Adil', 'Muj', 'Qais']"
      ]
     },
     "execution_count": 38,
     "metadata": {},
     "output_type": "execute_result"
    }
   ],
   "source": [
    "sorted(set(names))"
   ]
  },
  {
   "cell_type": "code",
   "execution_count": 39,
   "id": "b382ec54",
   "metadata": {},
   "outputs": [],
   "source": [
    " values = np.array([6, 0, 0, 3, 2, 5, 6])"
   ]
  },
  {
   "cell_type": "code",
   "execution_count": 42,
   "id": "37cb8c7c",
   "metadata": {},
   "outputs": [
    {
     "data": {
      "text/plain": [
       "array([ True, False, False,  True,  True, False,  True])"
      ]
     },
     "execution_count": 42,
     "metadata": {},
     "output_type": "execute_result"
    }
   ],
   "source": [
    "np.in1d(values, [2,3,6])"
   ]
  },
  {
   "cell_type": "code",
   "execution_count": 44,
   "id": "933d9592",
   "metadata": {},
   "outputs": [
    {
     "data": {
      "text/plain": [
       "array([[1., 2., 3.],\n",
       "       [4., 5., 6.]])"
      ]
     },
     "execution_count": 44,
     "metadata": {},
     "output_type": "execute_result"
    }
   ],
   "source": [
    "# linear algebra\n",
    "x = np.array([[1., 2., 3.], [4., 5., 6.]])\n",
    "y = np.array([[6., 23.], [-1, 7], [8, 9]])\n",
    "x"
   ]
  },
  {
   "cell_type": "code",
   "execution_count": 45,
   "id": "c1c35ddf",
   "metadata": {},
   "outputs": [
    {
     "data": {
      "text/plain": [
       "array([[ 6., 23.],\n",
       "       [-1.,  7.],\n",
       "       [ 8.,  9.]])"
      ]
     },
     "execution_count": 45,
     "metadata": {},
     "output_type": "execute_result"
    }
   ],
   "source": [
    "y"
   ]
  },
  {
   "cell_type": "code",
   "execution_count": 49,
   "id": "d23727bc",
   "metadata": {},
   "outputs": [
    {
     "data": {
      "text/plain": [
       "array([[ 28.,  64.],\n",
       "       [ 67., 181.]])"
      ]
     },
     "execution_count": 49,
     "metadata": {},
     "output_type": "execute_result"
    }
   ],
   "source": [
    "x.dot(y)/1"
   ]
  },
  {
   "cell_type": "code",
   "execution_count": 50,
   "id": "5e0f95f0",
   "metadata": {},
   "outputs": [
    {
     "data": {
      "text/plain": [
       "array([[ 28.,  64.],\n",
       "       [ 67., 181.]])"
      ]
     },
     "execution_count": 50,
     "metadata": {},
     "output_type": "execute_result"
    }
   ],
   "source": [
    "np.dot(x,y)"
   ]
  },
  {
   "cell_type": "code",
   "execution_count": 51,
   "id": "be49984a",
   "metadata": {},
   "outputs": [
    {
     "data": {
      "text/plain": [
       "array([ 6., 15.])"
      ]
     },
     "execution_count": 51,
     "metadata": {},
     "output_type": "execute_result"
    }
   ],
   "source": [
    "np.dot(x, np.ones(3))"
   ]
  },
  {
   "cell_type": "code",
   "execution_count": 52,
   "id": "0a769f41",
   "metadata": {},
   "outputs": [
    {
     "data": {
      "text/plain": [
       "array([1., 1., 1.])"
      ]
     },
     "execution_count": 52,
     "metadata": {},
     "output_type": "execute_result"
    }
   ],
   "source": [
    "np.ones(3)"
   ]
  },
  {
   "cell_type": "code",
   "execution_count": 53,
   "id": "d1f0e048",
   "metadata": {},
   "outputs": [],
   "source": [
    "from numpy.linalg import inv, qr"
   ]
  },
  {
   "cell_type": "code",
   "execution_count": 56,
   "id": "07dfdde8",
   "metadata": {},
   "outputs": [],
   "source": [
    "x = np.random.randn(5,5)"
   ]
  },
  {
   "cell_type": "code",
   "execution_count": 57,
   "id": "49bde7ed",
   "metadata": {},
   "outputs": [
    {
     "data": {
      "text/plain": [
       "array([[-1.73845484,  1.57295848, -0.12089839, -0.40607899,  1.22493948],\n",
       "       [-1.67744359,  1.48642413, -1.17466448, -0.64326344, -0.13671245],\n",
       "       [-0.7712409 ,  0.02479885, -1.30095577, -2.48699374, -1.20808551],\n",
       "       [-0.35393264, -1.99836257, -0.26871156, -1.78189178, -1.72563426],\n",
       "       [ 0.42727553,  0.51361732, -1.46696815,  0.17172727,  0.52132843]])"
      ]
     },
     "execution_count": 57,
     "metadata": {},
     "output_type": "execute_result"
    }
   ],
   "source": [
    "x"
   ]
  },
  {
   "cell_type": "code",
   "execution_count": 58,
   "id": "53ca24d9",
   "metadata": {},
   "outputs": [],
   "source": [
    "mat = x.T.dot(x)"
   ]
  },
  {
   "cell_type": "code",
   "execution_count": 59,
   "id": "2e777863",
   "metadata": {},
   "outputs": [
    {
     "data": {
      "text/plain": [
       "array([[ 6.73868742, -4.32029394,  2.6522663 ,  4.4071039 , -0.13494042],\n",
       "       [-4.32029394,  8.94152574, -2.18495711,  1.99248568,  5.40981334],\n",
       "       [ 2.6522663 , -2.18495711,  5.31114045,  4.26707836,  1.28308955],\n",
       "       [ 4.4071039 ,  1.99248568,  4.26707836,  9.96845444,  5.75944086],\n",
       "       [-0.13494042,  5.40981334,  1.28308955,  5.75944086,  6.22823456]])"
      ]
     },
     "execution_count": 59,
     "metadata": {},
     "output_type": "execute_result"
    }
   ],
   "source": [
    "mat"
   ]
  },
  {
   "cell_type": "code",
   "execution_count": 60,
   "id": "eb03f443",
   "metadata": {},
   "outputs": [
    {
     "data": {
      "text/plain": [
       "array([[ 0.88476635,  0.72088919,  0.40897819, -0.66764826, -0.07385082],\n",
       "       [ 0.72088919,  1.16665354,  0.58442333, -0.3350674 , -0.8082816 ],\n",
       "       [ 0.40897819,  0.58442333,  0.63100921, -0.43901034, -0.22279518],\n",
       "       [-0.66764826, -0.3350674 , -0.43901034,  0.94119296, -0.50333626],\n",
       "       [-0.07385082, -0.8082816 , -0.22279518, -0.50333626,  1.37237745]])"
      ]
     },
     "execution_count": 60,
     "metadata": {},
     "output_type": "execute_result"
    }
   ],
   "source": [
    "inv(mat)"
   ]
  },
  {
   "cell_type": "code",
   "execution_count": 61,
   "id": "bd80abe2",
   "metadata": {},
   "outputs": [
    {
     "data": {
      "text/plain": [
       "array([[ 1.00000000e+00, -3.03379245e-16, -2.14292201e-17,\n",
       "        -2.29351643e-16, -1.07684614e-16],\n",
       "       [-3.13070806e-17,  1.00000000e+00, -6.59077992e-17,\n",
       "         5.50567026e-16,  1.82844712e-16],\n",
       "       [ 9.21014896e-17, -2.06472888e-16,  1.00000000e+00,\n",
       "        -6.22880023e-17,  1.61779216e-16],\n",
       "       [ 1.42090033e-16,  1.24887643e-15,  1.83767616e-16,\n",
       "         1.00000000e+00, -8.00397978e-16],\n",
       "       [-2.13915386e-16, -1.98970923e-16,  3.83681151e-17,\n",
       "         7.39911656e-17,  1.00000000e+00]])"
      ]
     },
     "execution_count": 61,
     "metadata": {},
     "output_type": "execute_result"
    }
   ],
   "source": [
    "mat.dot(inv(mat))"
   ]
  },
  {
   "cell_type": "code",
   "execution_count": 62,
   "id": "cfe94959",
   "metadata": {},
   "outputs": [],
   "source": [
    "q,r = qr(mat)"
   ]
  },
  {
   "cell_type": "code",
   "execution_count": 63,
   "id": "2fa9a33c",
   "metadata": {},
   "outputs": [
    {
     "data": {
      "text/plain": [
       "array([[-0.70815896, -0.0585541 ,  0.46318527,  0.52784922, -0.0437825 ],\n",
       "       [ 0.45401347, -0.6156888 ,  0.09193356,  0.42038554, -0.47919024],\n",
       "       [-0.27872285,  0.02823888, -0.87062285,  0.38221165, -0.13208426],\n",
       "       [-0.4631362 , -0.54823923, -0.09715404, -0.62165523, -0.29840321],\n",
       "       [ 0.01418069, -0.56225887, -0.09790084,  0.11004647,  0.81361482]])"
      ]
     },
     "execution_count": 63,
     "metadata": {},
     "output_type": "execute_result"
    }
   ],
   "source": [
    "q"
   ]
  },
  {
   "cell_type": "code",
   "execution_count": 64,
   "id": "67e29422",
   "metadata": {},
   "outputs": [
    {
     "data": {
      "text/plain": [
       "array([[ -9.51578363,   6.8819481 ,  -6.30860565,  -7.94072627,\n",
       "         -0.38502387],\n",
       "       [  0.        ,  -9.44800136,  -1.72087504, -10.06770211,\n",
       "         -9.94605868],\n",
       "       [  0.        ,   0.        ,  -4.13655984,  -3.0228637 ,\n",
       "         -1.85154846],\n",
       "       [  0.        ,   0.        ,   0.        ,  -0.76831006,\n",
       "         -0.2016004 ],\n",
       "       [  0.        ,   0.        ,   0.        ,   0.        ,\n",
       "          0.59285062]])"
      ]
     },
     "execution_count": 64,
     "metadata": {},
     "output_type": "execute_result"
    }
   ],
   "source": [
    "r"
   ]
  },
  {
   "cell_type": "code",
   "execution_count": 73,
   "id": "d7e72768",
   "metadata": {},
   "outputs": [],
   "source": [
    "# Random walks\n",
    "import random\n",
    "position = 0\n",
    "walks = []\n",
    "steps = 1000\n",
    "for i in range(steps):\n",
    "    step = 1 if random.randint(0,1) else -1\n",
    "    position += step\n",
    "    walks.append(position)"
   ]
  },
  {
   "cell_type": "code",
   "execution_count": 74,
   "id": "5122629e",
   "metadata": {},
   "outputs": [
    {
     "data": {
      "text/plain": [
       "[<matplotlib.lines.Line2D at 0x157831b6dc0>]"
      ]
     },
     "execution_count": 74,
     "metadata": {},
     "output_type": "execute_result"
    },
    {
     "data": {
      "image/png": "[encoded data removed]",
      "text/plain": [
       "<Figure size 432x288 with 1 Axes>"
      ]
     },
     "metadata": {
      "needs_background": "light"
     },
     "output_type": "display_data"
    }
   ],
   "source": [
    "plt.plot(walks[:])"
   ]
  },
  {
   "cell_type": "code",
   "execution_count": 83,
   "id": "07c5d5c8",
   "metadata": {},
   "outputs": [],
   "source": [
    "# using numpy\n",
    "nwalks = 5000\n",
    "nsteps= 1000\n",
    "draws = np.random.randint(0,2, size=(nwalks,nsteps))\n",
    "steps = np.where(draws>0, 1, -1)\n",
    "walk = steps.cumsum(1)"
   ]
  },
  {
   "cell_type": "code",
   "execution_count": 85,
   "id": "4dc72d3c",
   "metadata": {},
   "outputs": [],
   "source": [
    "# plt.plot(walk)"
   ]
  },
  {
   "cell_type": "code",
   "execution_count": 79,
   "id": "57bc9ae0",
   "metadata": {},
   "outputs": [
    {
     "data": {
      "text/plain": [
       "0"
      ]
     },
     "execution_count": 79,
     "metadata": {},
     "output_type": "execute_result"
    }
   ],
   "source": [
    "walk.max()"
   ]
  },
  {
   "cell_type": "code",
   "execution_count": 92,
   "id": "f18ee0e8",
   "metadata": {},
   "outputs": [],
   "source": [
    "# using argmax to compute the index of the maximum value reached\n",
    "hits30 = (np.abs(walk) >= 30).any(1)"
   ]
  },
  {
   "cell_type": "code",
   "execution_count": 93,
   "id": "2913d15b",
   "metadata": {},
   "outputs": [
    {
     "data": {
      "text/plain": [
       "array([False,  True,  True, ..., False,  True,  True])"
      ]
     },
     "execution_count": 93,
     "metadata": {},
     "output_type": "execute_result"
    }
   ],
   "source": [
    "hits30"
   ]
  },
  {
   "cell_type": "code",
   "execution_count": 95,
   "id": "b3343233",
   "metadata": {},
   "outputs": [
    {
     "data": {
      "text/plain": [
       "3390"
      ]
     },
     "execution_count": 95,
     "metadata": {},
     "output_type": "execute_result"
    }
   ],
   "source": [
    "hits30.sum()"
   ]
  },
  {
   "cell_type": "code",
   "execution_count": null,
   "id": "bc473025",
   "metadata": {},
   "outputs": [],
   "source": []
  },
  {
   "cell_type": "code",
   "execution_count": null,
   "id": "24346111",
   "metadata": {},
   "outputs": [],
   "source": []
  },
  {
   "cell_type": "code",
   "execution_count": null,
   "id": "2f0c9809",
   "metadata": {},
   "outputs": [],
   "source": []
  },
  {
   "cell_type": "code",
   "execution_count": null,
   "id": "35a8b085",
   "metadata": {},
   "outputs": [],
   "source": []
  },
  {
   "cell_type": "code",
   "execution_count": null,
   "id": "af31f15b",
   "metadata": {},
   "outputs": [],
   "source": []
  },
  {
   "cell_type": "code",
   "execution_count": null,
   "id": "596e1272",
   "metadata": {},
   "outputs": [],
   "source": []
  },
  {
   "cell_type": "code",
   "execution_count": null,
   "id": "d9b21783",
   "metadata": {},
   "outputs": [],
   "source": []
  },
  {
   "cell_type": "code",
   "execution_count": null,
   "id": "21d69d49",
   "metadata": {},
   "outputs": [],
   "source": []
  },
  {
   "cell_type": "code",
   "execution_count": null,
   "id": "ba3fbe5f",
   "metadata": {},
   "outputs": [],
   "source": []
  },
  {
   "cell_type": "code",
   "execution_count": null,
   "id": "7952f8d6",
   "metadata": {},
   "outputs": [],
   "source": []
  },
  {
   "cell_type": "code",
   "execution_count": null,
   "id": "0b5af862",
   "metadata": {},
   "outputs": [],
   "source": []
  },
  {
   "cell_type": "code",
   "execution_count": null,
   "id": "f2fe35bd",
   "metadata": {},
   "outputs": [],
   "source": []
  },
  {
   "cell_type": "code",
   "execution_count": null,
   "id": "61fd44b6",
   "metadata": {},
   "outputs": [],
   "source": []
  }
 ],
 "metadata": {
  "kernelspec": {
   "display_name": "Python 3 (ipykernel)",
   "language": "python",
   "name": "python3"
  },
  "language_info": {
   "codemirror_mode": {
    "name": "ipython",
    "version": 3
   },
   "file_extension": ".py",
   "mimetype": "text/x-python",
   "name": "python",
   "nbconvert_exporter": "python",
   "pygments_lexer": "ipython3",
   "version": "3.9.7"
  }
 },
 "nbformat": 4,
 "nbformat_minor": 5
}
